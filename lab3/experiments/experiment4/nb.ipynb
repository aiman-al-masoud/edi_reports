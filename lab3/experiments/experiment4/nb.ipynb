{
 "cells": [
  {
   "cell_type": "code",
   "execution_count": null,
   "id": "2cbf1003-fb1c-48b1-9778-0638678cf002",
   "metadata": {},
   "outputs": [
    {
     "name": "stdout",
     "output_type": "stream",
     "text": [
      "\u001b[33m[  0.326]\u001b[0m Connected\n",
      "The negotiated protocol: h2\n",
      "\u001b[33m[  0.941]\u001b[0m recv \u001b[1;36mSETTINGS\u001b[0m frame <length=18, flags=0x00, stream_id=0>\n",
      "          (niv=3)\n",
      "          [SETTINGS_MAX_CONCURRENT_STREAMS(0x03):128]\n",
      "          [SETTINGS_INITIAL_WINDOW_SIZE(0x04):65536]\n",
      "          [SETTINGS_MAX_FRAME_SIZE(0x05):16777215]\n",
      "\u001b[33m[  0.942]\u001b[0m recv \u001b[1;36mWINDOW_UPDATE\u001b[0m frame <length=4, flags=0x00, stream_id=0>\n",
      "          (window_size_increment=2147418112)\n",
      "\u001b[33m[  0.942]\u001b[0m send \u001b[1;35mSETTINGS\u001b[0m frame <length=12, flags=0x00, stream_id=0>\n",
      "          (niv=2)\n",
      "          [SETTINGS_MAX_CONCURRENT_STREAMS(0x03):100]\n",
      "          [SETTINGS_INITIAL_WINDOW_SIZE(0x04):65535]\n",
      "\u001b[33m[  0.942]\u001b[0m send \u001b[1;35mSETTINGS\u001b[0m frame <length=0, flags=0x01, stream_id=0>\n",
      "          ; ACK\n",
      "          (niv=0)\n",
      "\u001b[33m[  0.942]\u001b[0m send \u001b[1;35mPRIORITY\u001b[0m frame <length=5, flags=0x00, stream_id=3>\n",
      "          (dep_stream_id=0, weight=201, exclusive=0)\n",
      "\u001b[33m[  0.942]\u001b[0m send \u001b[1;35mPRIORITY\u001b[0m frame <length=5, flags=0x00, stream_id=5>\n",
      "          (dep_stream_id=0, weight=101, exclusive=0)\n",
      "\u001b[33m[  0.942]\u001b[0m send \u001b[1;35mPRIORITY\u001b[0m frame <length=5, flags=0x00, stream_id=7>\n",
      "          (dep_stream_id=0, weight=1, exclusive=0)\n",
      "\u001b[33m[  0.942]\u001b[0m send \u001b[1;35mPRIORITY\u001b[0m frame <length=5, flags=0x00, stream_id=9>\n",
      "          (dep_stream_id=7, weight=1, exclusive=0)\n",
      "\u001b[33m[  0.942]\u001b[0m send \u001b[1;35mPRIORITY\u001b[0m frame <length=5, flags=0x00, stream_id=11>\n",
      "          (dep_stream_id=3, weight=1, exclusive=0)\n",
      "\u001b[33m[  0.942]\u001b[0m send \u001b[1;35mHEADERS\u001b[0m frame <length=36, flags=0x25, stream_id=13>\n",
      "          ; END_STREAM | END_HEADERS | PRIORITY\n",
      "          (padlen=0, dep_stream_id=11, weight=16, exclusive=0)\n",
      "          ; Open new stream\n",
      "          \u001b[1;34m:method\u001b[0m: GET\n",
      "          \u001b[1;34m:path\u001b[0m: /\n",
      "          \u001b[1;34m:scheme\u001b[0m: https\n",
      "          \u001b[1;34m:authority\u001b[0m: archive.org\n",
      "          \u001b[1;34maccept\u001b[0m: */*\n",
      "          \u001b[1;34maccept-encoding\u001b[0m: gzip, deflate\n",
      "          \u001b[1;34muser-agent\u001b[0m: nghttp2/1.40.0\n"
     ]
    }
   ],
   "source": [
    "# ! nghttp -ansv  https://example.com\n",
    "\n",
    "! nghttp -ansv  https://archive.org/"
   ]
  },
  {
   "cell_type": "code",
   "execution_count": null,
   "id": "d50eaeb2-cbb7-4266-a0b7-ad2ee948d28e",
   "metadata": {},
   "outputs": [],
   "source": []
  },
  {
   "cell_type": "code",
   "execution_count": null,
   "id": "518e3edf-9f17-4086-a151-1e377aaebc3a",
   "metadata": {},
   "outputs": [],
   "source": []
  },
  {
   "cell_type": "code",
   "execution_count": null,
   "id": "e9036664-483f-4719-824e-7ad891321580",
   "metadata": {},
   "outputs": [],
   "source": []
  },
  {
   "cell_type": "code",
   "execution_count": null,
   "id": "270f261d-f4c8-4a64-a6e3-77d46072134a",
   "metadata": {},
   "outputs": [],
   "source": []
  }
 ],
 "metadata": {
  "kernelspec": {
   "display_name": "Python 3 (ipykernel)",
   "language": "python",
   "name": "python3"
  },
  "language_info": {
   "codemirror_mode": {
    "name": "ipython",
    "version": 3
   },
   "file_extension": ".py",
   "mimetype": "text/x-python",
   "name": "python",
   "nbconvert_exporter": "python",
   "pygments_lexer": "ipython3",
   "version": "3.8.10"
  }
 },
 "nbformat": 4,
 "nbformat_minor": 5
}
