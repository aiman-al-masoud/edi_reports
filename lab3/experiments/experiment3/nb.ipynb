{
 "cells": [
  {
   "cell_type": "code",
   "execution_count": 1,
   "id": "5e83b5d7-c75d-4db5-9348-65e661122623",
   "metadata": {},
   "outputs": [],
   "source": [
    "\"\"\"\n",
    "Lambda to compute average time for test.\n",
    "\"\"\"\n",
    "%alias avrg_time cat \"%l\" | grep 'Time taken' | egrep -o '([0-9]+\\.[0-9]+)' |    tr . ,  |  datamash   mean  1  | tr , . "
   ]
  },
  {
   "cell_type": "code",
   "execution_count": 2,
   "id": "7de8ce56-cf4c-4081-a65f-8bb1b00f5fc2",
   "metadata": {},
   "outputs": [
    {
     "name": "stdout",
     "output_type": "stream",
     "text": [
      "5.1913333333333\n"
     ]
    }
   ],
   "source": [
    "avrg_time \"./data/*c1.txt\""
   ]
  },
  {
   "cell_type": "code",
   "execution_count": 3,
   "id": "f52a4bf2-37c3-4ef9-b84a-2fac8850e409",
   "metadata": {},
   "outputs": [
    {
     "name": "stdout",
     "output_type": "stream",
     "text": [
      "3.1943333333333\n"
     ]
    }
   ],
   "source": [
    "avrg_time \"./data/*c1-k.txt\""
   ]
  },
  {
   "cell_type": "code",
   "execution_count": 4,
   "id": "ce7f2102-bf49-444b-9be2-f72144e983b6",
   "metadata": {},
   "outputs": [
    {
     "name": "stdout",
     "output_type": "stream",
     "text": [
      "1.0363333333333\n"
     ]
    }
   ],
   "source": [
    "avrg_time \"./data/*c10.txt\""
   ]
  },
  {
   "cell_type": "code",
   "execution_count": 5,
   "id": "65718aef-e4c0-49fd-8e0e-18938920a18f",
   "metadata": {},
   "outputs": [
    {
     "name": "stdout",
     "output_type": "stream",
     "text": [
      "0.93933333333333\n"
     ]
    }
   ],
   "source": [
    "avrg_time \"./data/*c10-k.txt\""
   ]
  }
 ],
 "metadata": {
  "kernelspec": {
   "display_name": "Python 3 (ipykernel)",
   "language": "python",
   "name": "python3"
  },
  "language_info": {
   "codemirror_mode": {
    "name": "ipython",
    "version": 3
   },
   "file_extension": ".py",
   "mimetype": "text/x-python",
   "name": "python",
   "nbconvert_exporter": "python",
   "pygments_lexer": "ipython3",
   "version": "3.8.10"
  }
 },
 "nbformat": 4,
 "nbformat_minor": 5
}
