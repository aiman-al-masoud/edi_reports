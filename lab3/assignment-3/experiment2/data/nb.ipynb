{
 "cells": [
  {
   "cell_type": "code",
   "execution_count": 75,
   "id": "128cf098-adcb-4c1a-9159-b0a0971268ac",
   "metadata": {},
   "outputs": [],
   "source": [
    "import json\n",
    "import pandas as pd"
   ]
  },
  {
   "cell_type": "code",
   "execution_count": 60,
   "id": "7af84fda-4377-4c69-ac14-fe1dbf272214",
   "metadata": {},
   "outputs": [],
   "source": [
    "with open(\"dump.txt\") as f:\n",
    "    objs = f.read().split(\"--------------------------------------------\")"
   ]
  },
  {
   "cell_type": "code",
   "execution_count": 73,
   "id": "7911fb66-c50d-4b4a-bff2-79d184af320e",
   "metadata": {},
   "outputs": [],
   "source": [
    "objs = [json.loads(x) for x in objs if x!=\"\\n\" and \":}\" not in x]"
   ]
  },
  {
   "cell_type": "code",
   "execution_count": 77,
   "id": "cd18bff4-afc2-44f8-b547-72851b494494",
   "metadata": {},
   "outputs": [],
   "source": [
    "df = pd.DataFrame(objs)"
   ]
  },
  {
   "cell_type": "code",
   "execution_count": 81,
   "id": "06796bb7-b199-4671-934d-a894693e5400",
   "metadata": {},
   "outputs": [],
   "source": [
    "df[\"cache\"] = df.apply(lambda x : True if x[\"cache\"]==1 else False, axis=1)"
   ]
  },
  {
   "cell_type": "code",
   "execution_count": 95,
   "id": "3bd67a4f-b5bb-4267-b32a-b43cb2d21d3c",
   "metadata": {},
   "outputs": [],
   "source": [
    "def http_version(website):\n",
    "    f = lambda x, li : any([ c in x for c in  li ]) \n",
    "    dom = website.split(\"://\")[1]\n",
    "    \n",
    "    if f(dom, [\"unipv\", \"pythonanywhere\", \"mit\"]):\n",
    "        return \"http1\"\n",
    "    if f(dom, [\"github\", \"archive\", \"stackoverflow\"]) :\n",
    "        return \"http2\"\n",
    "    if f(dom,  [\"maxgames\", \"go\", \"mclab\"]):\n",
    "        return \"unsecure-http1\""
   ]
  },
  {
   "cell_type": "code",
   "execution_count": 104,
   "id": "fd0fdcb1-4ec1-4bf6-9ca4-fe61753d347b",
   "metadata": {},
   "outputs": [],
   "source": [
    "df[\"http_version\"] = df.apply(lambda x : http_version(x[\"website\"]), axis=1)"
   ]
  },
  {
   "cell_type": "code",
   "execution_count": 107,
   "id": "85c6e090-3c87-448a-9c9e-c1d2177ef133",
   "metadata": {},
   "outputs": [
    {
     "data": {
      "text/html": [
       "<div>\n",
       "<style scoped>\n",
       "    .dataframe tbody tr th:only-of-type {\n",
       "        vertical-align: middle;\n",
       "    }\n",
       "\n",
       "    .dataframe tbody tr th {\n",
       "        vertical-align: top;\n",
       "    }\n",
       "\n",
       "    .dataframe thead th {\n",
       "        text-align: right;\n",
       "    }\n",
       "</style>\n",
       "<table border=\"1\" class=\"dataframe\">\n",
       "  <thead>\n",
       "    <tr style=\"text-align: right;\">\n",
       "      <th></th>\n",
       "      <th></th>\n",
       "      <th>number_requests</th>\n",
       "      <th>plt_seconds</th>\n",
       "    </tr>\n",
       "    <tr>\n",
       "      <th>http_version</th>\n",
       "      <th>cache</th>\n",
       "      <th></th>\n",
       "      <th></th>\n",
       "    </tr>\n",
       "  </thead>\n",
       "  <tbody>\n",
       "    <tr>\n",
       "      <th rowspan=\"2\" valign=\"top\">http1</th>\n",
       "      <th>False</th>\n",
       "      <td>39.950000</td>\n",
       "      <td>2.343500</td>\n",
       "    </tr>\n",
       "    <tr>\n",
       "      <th>True</th>\n",
       "      <td>29.923077</td>\n",
       "      <td>1.543077</td>\n",
       "    </tr>\n",
       "    <tr>\n",
       "      <th rowspan=\"2\" valign=\"top\">http2</th>\n",
       "      <th>False</th>\n",
       "      <td>80.083333</td>\n",
       "      <td>3.708333</td>\n",
       "    </tr>\n",
       "    <tr>\n",
       "      <th>True</th>\n",
       "      <td>56.333333</td>\n",
       "      <td>2.652667</td>\n",
       "    </tr>\n",
       "    <tr>\n",
       "      <th rowspan=\"2\" valign=\"top\">unsecure-http1</th>\n",
       "      <th>False</th>\n",
       "      <td>78.666667</td>\n",
       "      <td>4.010000</td>\n",
       "    </tr>\n",
       "    <tr>\n",
       "      <th>True</th>\n",
       "      <td>45.500000</td>\n",
       "      <td>3.580000</td>\n",
       "    </tr>\n",
       "  </tbody>\n",
       "</table>\n",
       "</div>"
      ],
      "text/plain": [
       "                      number_requests  plt_seconds\n",
       "http_version   cache                              \n",
       "http1          False        39.950000     2.343500\n",
       "               True         29.923077     1.543077\n",
       "http2          False        80.083333     3.708333\n",
       "               True         56.333333     2.652667\n",
       "unsecure-http1 False        78.666667     4.010000\n",
       "               True         45.500000     3.580000"
      ]
     },
     "execution_count": 107,
     "metadata": {},
     "output_type": "execute_result"
    }
   ],
   "source": [
    "df.groupby([\"http_version\", \"cache\"]).mean()"
   ]
  },
  {
   "cell_type": "code",
   "execution_count": 109,
   "id": "c0ff54d3-f3fd-41ca-bac0-bd9ca2741f15",
   "metadata": {},
   "outputs": [],
   "source": [
    "# df"
   ]
  },
  {
   "cell_type": "code",
   "execution_count": null,
   "id": "39c35d60-80ff-4556-876d-25fa51e8c810",
   "metadata": {},
   "outputs": [],
   "source": []
  }
 ],
 "metadata": {
  "kernelspec": {
   "display_name": "Python 3 (ipykernel)",
   "language": "python",
   "name": "python3"
  },
  "language_info": {
   "codemirror_mode": {
    "name": "ipython",
    "version": 3
   },
   "file_extension": ".py",
   "mimetype": "text/x-python",
   "name": "python",
   "nbconvert_exporter": "python",
   "pygments_lexer": "ipython3",
   "version": "3.8.10"
  }
 },
 "nbformat": 4,
 "nbformat_minor": 5
}
