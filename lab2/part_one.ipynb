{
 "cells": [
  {
   "cell_type": "markdown",
   "id": "0bc260a1-1955-43e7-951b-5e83a8a4affd",
   "metadata": {},
   "source": [
    "**All of these tests were performed at home from my local network.**"
   ]
  },
  {
   "cell_type": "markdown",
   "id": "43a7e345-c73f-44c2-8b60-b75a7734531d",
   "metadata": {
    "jp-MarkdownHeadingCollapsed": true,
    "tags": []
   },
   "source": [
    "# 1.1) \n",
    "\n",
    "Query the DNS to obtain the IP addresses of ercole.unipv.it and of another website in the domain it; are the answers authoritative? Why?"
   ]
  },
  {
   "cell_type": "code",
   "execution_count": 4,
   "id": "edd9fc54-bf85-4df6-ad67-f53a0bb1dd1f",
   "metadata": {},
   "outputs": [
    {
     "name": "stdout",
     "output_type": "stream",
     "text": [
      "\n",
      "; <<>> DiG 9.16.1-Ubuntu <<>> ercole.unipv.it\n",
      ";; global options: +cmd\n",
      ";; Got answer:\n",
      ";; ->>HEADER<<- opcode: QUERY, status: NOERROR, id: 63964\n",
      ";; flags: qr rd ra; QUERY: 1, ANSWER: 1, AUTHORITY: 0, ADDITIONAL: 1\n",
      "\n",
      ";; OPT PSEUDOSECTION:\n",
      "; EDNS: version: 0, flags:; udp: 65494\n",
      ";; QUESTION SECTION:\n",
      ";ercole.unipv.it.\t\tIN\tA\n",
      "\n",
      ";; ANSWER SECTION:\n",
      "ercole.unipv.it.\t76\tIN\tA\t193.204.34.13\n",
      "\n",
      ";; Query time: 0 msec\n",
      ";; SERVER: 127.0.0.53#53(127.0.0.53)\n",
      ";; WHEN: gio apr 21 13:55:38 CEST 2022\n",
      ";; MSG SIZE  rcvd: 60\n",
      "\n"
     ]
    }
   ],
   "source": [
    "! dig ercole.unipv.it"
   ]
  },
  {
   "cell_type": "code",
   "execution_count": 5,
   "id": "d5d4742a-3d7c-4190-8e4d-5377bf0f799f",
   "metadata": {},
   "outputs": [
    {
     "name": "stdout",
     "output_type": "stream",
     "text": [
      "\n",
      "; <<>> DiG 9.16.1-Ubuntu <<>> google.it\n",
      ";; global options: +cmd\n",
      ";; Got answer:\n",
      ";; ->>HEADER<<- opcode: QUERY, status: NOERROR, id: 61969\n",
      ";; flags: qr rd ra; QUERY: 1, ANSWER: 1, AUTHORITY: 0, ADDITIONAL: 1\n",
      "\n",
      ";; OPT PSEUDOSECTION:\n",
      "; EDNS: version: 0, flags:; udp: 65494\n",
      ";; QUESTION SECTION:\n",
      ";google.it.\t\t\tIN\tA\n",
      "\n",
      ";; ANSWER SECTION:\n",
      "google.it.\t\t36\tIN\tA\t142.250.180.163\n",
      "\n",
      ";; Query time: 43 msec\n",
      ";; SERVER: 127.0.0.53#53(127.0.0.53)\n",
      ";; WHEN: gio apr 21 13:55:46 CEST 2022\n",
      ";; MSG SIZE  rcvd: 54\n",
      "\n"
     ]
    }
   ],
   "source": [
    "! dig google.it"
   ]
  },
  {
   "cell_type": "markdown",
   "id": "ee7f0a0a-0898-4b1d-902a-e220edc6955c",
   "metadata": {},
   "source": [
    "The answers aren't athorintative since they're not being provided to me directly by the owner of the domain. The answers would've been authoritative, had the LNS that I used been owned by the domain that I queried."
   ]
  },
  {
   "cell_type": "markdown",
   "id": "81494794-6c8f-4b69-8589-af62e0cfed7d",
   "metadata": {
    "jp-MarkdownHeadingCollapsed": true,
    "tags": []
   },
   "source": [
    "# 1.2) \n",
    "Query the DNS to obtain the name(s) of the mail servers associated with the\n",
    "domain `universitadipavia.it` and `berkeley.edu`. How many servers\n",
    "provide this service? Is there anything specific associated with the RRs?"
   ]
  },
  {
   "cell_type": "code",
   "execution_count": 11,
   "id": "c79099c3-e7e4-4dbc-952f-6cdb79d0c344",
   "metadata": {},
   "outputs": [
    {
     "name": "stdout",
     "output_type": "stream",
     "text": [
      "\n",
      "; <<>> DiG 9.16.1-Ubuntu <<>> universitadipavia.it -t MX\n",
      ";; global options: +cmd\n",
      ";; Got answer:\n",
      ";; ->>HEADER<<- opcode: QUERY, status: NOERROR, id: 59750\n",
      ";; flags: qr rd ra; QUERY: 1, ANSWER: 7, AUTHORITY: 0, ADDITIONAL: 1\n",
      "\n",
      ";; OPT PSEUDOSECTION:\n",
      "; EDNS: version: 0, flags:; udp: 65494\n",
      ";; QUESTION SECTION:\n",
      ";universitadipavia.it.\t\tIN\tMX\n",
      "\n",
      ";; ANSWER SECTION:\n",
      "universitadipavia.it.\t3600\tIN\tMX\t5 ALT2.ASPMX.L.GOOGLE.COM.\n",
      "universitadipavia.it.\t3600\tIN\tMX\t10 ASPMX4.GOOGLEMAIL.COM.\n",
      "universitadipavia.it.\t3600\tIN\tMX\t10 ASPMX2.GOOGLEMAIL.COM.\n",
      "universitadipavia.it.\t3600\tIN\tMX\t10 ASPMX5.GOOGLEMAIL.COM.\n",
      "universitadipavia.it.\t3600\tIN\tMX\t5 ALT1.ASPMX.L.GOOGLE.COM.\n",
      "universitadipavia.it.\t3600\tIN\tMX\t10 ASPMX3.GOOGLEMAIL.COM.\n",
      "universitadipavia.it.\t3600\tIN\tMX\t1 ASPMX.L.GOOGLE.COM.\n",
      "\n",
      ";; Query time: 60 msec\n",
      ";; SERVER: 127.0.0.53#53(127.0.0.53)\n",
      ";; WHEN: gio apr 21 13:58:44 CEST 2022\n",
      ";; MSG SIZE  rcvd: 228\n",
      "\n"
     ]
    }
   ],
   "source": [
    "! dig universitadipavia.it -t MX"
   ]
  },
  {
   "cell_type": "code",
   "execution_count": 12,
   "id": "06eebe4c-034b-40b1-8709-219fbe38e824",
   "metadata": {},
   "outputs": [
    {
     "name": "stdout",
     "output_type": "stream",
     "text": [
      "\n",
      "; <<>> DiG 9.16.1-Ubuntu <<>> berkeley.edu -t MX\n",
      ";; global options: +cmd\n",
      ";; Got answer:\n",
      ";; ->>HEADER<<- opcode: QUERY, status: NOERROR, id: 22900\n",
      ";; flags: qr rd ra; QUERY: 1, ANSWER: 5, AUTHORITY: 0, ADDITIONAL: 1\n",
      "\n",
      ";; OPT PSEUDOSECTION:\n",
      "; EDNS: version: 0, flags:; udp: 65494\n",
      ";; QUESTION SECTION:\n",
      ";berkeley.edu.\t\t\tIN\tMX\n",
      "\n",
      ";; ANSWER SECTION:\n",
      "berkeley.edu.\t\t271\tIN\tMX\t1 aspmx.l.google.com.\n",
      "berkeley.edu.\t\t271\tIN\tMX\t5 alt2.aspmx.l.google.com.\n",
      "berkeley.edu.\t\t271\tIN\tMX\t5 alt1.aspmx.l.google.com.\n",
      "berkeley.edu.\t\t271\tIN\tMX\t10 alt3.aspmx.l.google.com.\n",
      "berkeley.edu.\t\t271\tIN\tMX\t10 alt4.aspmx.l.google.com.\n",
      "\n",
      ";; Query time: 239 msec\n",
      ";; SERVER: 127.0.0.53#53(127.0.0.53)\n",
      ";; WHEN: gio apr 21 13:59:14 CEST 2022\n",
      ";; MSG SIZE  rcvd: 159\n",
      "\n"
     ]
    }
   ],
   "source": [
    "! dig berkeley.edu -t MX"
   ]
  },
  {
   "cell_type": "markdown",
   "id": "5bdddf95-f35a-4dfb-9a38-4bde6a644e51",
   "metadata": {},
   "source": [
    "7 servers for Pavia and 5 for Berkley, they're all actually Google servers, since managment of such things has been outsourced to big G."
   ]
  },
  {
   "cell_type": "markdown",
   "id": "8894bc75-e274-4504-9436-8f9657f240f3",
   "metadata": {
    "jp-MarkdownHeadingCollapsed": true,
    "tags": []
   },
   "source": [
    "# 1.3)  \n",
    "\n",
    "Query the DNS to obtain the IP address of a Web server in Asia; is the answer\n",
    "authoritative? Why? How many RRs did you obtain? What is their type? Does the\n",
    "domain sign any RR type using DNSSEC?"
   ]
  },
  {
   "cell_type": "code",
   "execution_count": null,
   "id": "45d518d4-9a38-450a-94f4-193b59b737e4",
   "metadata": {},
   "outputs": [],
   "source": []
  },
  {
   "cell_type": "markdown",
   "id": "7f006c11-5e1f-4e96-9f48-8fca893b0d09",
   "metadata": {},
   "source": [
    "# 1.4)\n",
    "\n",
    "Query the DNS to obtain the IP addresses of the authoritative Name Servers of a\n",
    "company outside Europe; how many queries did you execute? What type(s) of\n",
    "queries? How many Name Servers are associated with the company? Do they\n",
    "belong to the same domain? Can you identify the primary Name Server? Why?\n",
    "Who registered the domain? When will it expire?"
   ]
  },
  {
   "cell_type": "code",
   "execution_count": 2,
   "id": "23b8187b-acbb-4bcb-b4cc-6e73cfb6e7a8",
   "metadata": {},
   "outputs": [
    {
     "name": "stdout",
     "output_type": "stream",
     "text": [
      "\n",
      "; <<>> DiG 9.16.1-Ubuntu <<>> duolingo.com -t NS\n",
      ";; global options: +cmd\n",
      ";; Got answer:\n",
      ";; ->>HEADER<<- opcode: QUERY, status: NOERROR, id: 47003\n",
      ";; flags: qr rd ra; QUERY: 1, ANSWER: 4, AUTHORITY: 0, ADDITIONAL: 1\n",
      "\n",
      ";; OPT PSEUDOSECTION:\n",
      "; EDNS: version: 0, flags:; udp: 65494\n",
      ";; QUESTION SECTION:\n",
      ";duolingo.com.\t\t\tIN\tNS\n",
      "\n",
      ";; ANSWER SECTION:\n",
      "duolingo.com.\t\t172800\tIN\tNS\tns-1020.awsdns-63.net.\n",
      "duolingo.com.\t\t172800\tIN\tNS\tns-1117.awsdns-11.org.\n",
      "duolingo.com.\t\t172800\tIN\tNS\tns-1904.awsdns-46.co.uk.\n",
      "duolingo.com.\t\t172800\tIN\tNS\tns-247.awsdns-30.com.\n",
      "\n",
      ";; Query time: 67 msec\n",
      ";; SERVER: 127.0.0.53#53(127.0.0.53)\n",
      ";; WHEN: lun apr 25 11:46:30 CEST 2022\n",
      ";; MSG SIZE  rcvd: 179\n",
      "\n"
     ]
    }
   ],
   "source": [
    "! dig duolingo.com -t NS"
   ]
  },
  {
   "cell_type": "code",
   "execution_count": null,
   "id": "13361f82-6a83-4b66-b24d-92e971d185bb",
   "metadata": {},
   "outputs": [],
   "source": []
  },
  {
   "cell_type": "code",
   "execution_count": null,
   "id": "c1aefa29-92f5-4920-9ab0-24dcbb4ee338",
   "metadata": {},
   "outputs": [],
   "source": []
  },
  {
   "cell_type": "code",
   "execution_count": null,
   "id": "fec98636-a204-43e5-bed1-5e29076fe9dc",
   "metadata": {},
   "outputs": [],
   "source": []
  },
  {
   "cell_type": "markdown",
   "id": "6e9edd86-4f48-4155-b57b-126f03f03eef",
   "metadata": {},
   "source": [
    "# 1.5)\n",
    "\n",
    "\n",
    "Query one of the Name Servers identified in the previous experiment to obtain the\n",
    "IP address of the Name Servers of the domains unipv.it and samsung.com.\n",
    "How many IP addresses did you get?"
   ]
  },
  {
   "cell_type": "code",
   "execution_count": 12,
   "id": "7c7bdcaa-bd11-4163-8678-ef94e658c506",
   "metadata": {},
   "outputs": [
    {
     "name": "stdout",
     "output_type": "stream",
     "text": [
      "\n",
      "; <<>> DiG 9.16.1-Ubuntu <<>> samsung.com @ns-1020.awsdns-63.net. -t NS\n",
      ";; global options: +cmd\n",
      ";; Got answer:\n",
      ";; ->>HEADER<<- opcode: QUERY, status: REFUSED, id: 43305\n",
      ";; flags: qr rd; QUERY: 1, ANSWER: 0, AUTHORITY: 0, ADDITIONAL: 0\n",
      ";; WARNING: recursion requested but not available\n",
      "\n",
      ";; QUESTION SECTION:\n",
      ";samsung.com.\t\t\tIN\tNS\n",
      "\n",
      ";; Query time: 139 msec\n",
      ";; SERVER: 205.251.195.252#53(205.251.195.252)\n",
      ";; WHEN: lun apr 25 11:50:41 CEST 2022\n",
      ";; MSG SIZE  rcvd: 29\n",
      "\n"
     ]
    }
   ],
   "source": [
    "! dig samsung.com @ns-1020.awsdns-63.net.  -t NS"
   ]
  },
  {
   "cell_type": "code",
   "execution_count": null,
   "id": "e87afbaa-e8d1-4507-bedd-99749e922937",
   "metadata": {},
   "outputs": [],
   "source": []
  },
  {
   "cell_type": "code",
   "execution_count": null,
   "id": "c7d2d33d-315a-4d0d-a47d-a72761ce0a04",
   "metadata": {},
   "outputs": [],
   "source": []
  },
  {
   "cell_type": "code",
   "execution_count": null,
   "id": "a5b459bb-5b65-4c4c-a371-7bc65ff3c0b2",
   "metadata": {},
   "outputs": [],
   "source": []
  },
  {
   "cell_type": "code",
   "execution_count": null,
   "id": "558d7fb0-2094-4e41-bbc7-e39a7660fe57",
   "metadata": {},
   "outputs": [],
   "source": []
  },
  {
   "cell_type": "code",
   "execution_count": null,
   "id": "187ed124-68bd-4683-aea3-bf7a89624216",
   "metadata": {},
   "outputs": [],
   "source": []
  }
 ],
 "metadata": {
  "kernelspec": {
   "display_name": "Python 3 (ipykernel)",
   "language": "python",
   "name": "python3"
  },
  "language_info": {
   "codemirror_mode": {
    "name": "ipython",
    "version": 3
   },
   "file_extension": ".py",
   "mimetype": "text/x-python",
   "name": "python",
   "nbconvert_exporter": "python",
   "pygments_lexer": "ipython3",
   "version": "3.8.10"
  }
 },
 "nbformat": 4,
 "nbformat_minor": 5
}
