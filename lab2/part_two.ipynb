{
 "cells": [
  {
   "cell_type": "code",
   "execution_count": 6,
   "id": "61577882-159f-44dd-88bf-7f04f55cf7aa",
   "metadata": {},
   "outputs": [],
   "source": [
    "import pandas as pd"
   ]
  },
  {
   "cell_type": "markdown",
   "id": "dae0b841-f878-494f-891d-3eba3894e9f4",
   "metadata": {},
   "source": [
    "Performance/auditing experiments: \n",
    "    \n",
    "Test the behavior of different Name Servers using\n",
    "diagnostic tools, such as dnsperf, dnsping, dnstraceroute, dnseval,\n",
    "reseval.\n",
    "\n",
    "\n",
    "## 1) Measure the performance of a Name Server when processing multiple queries. \n",
    "Did you notice any variability? Any expected/unexpected behavior?\n",
    "\n",
    "\n"
   ]
  },
  {
   "cell_type": "markdown",
   "id": "505de201-fc6a-4f82-85aa-7f5eb339940e",
   "metadata": {
    "tags": []
   },
   "source": [
    "\n",
    "#### https://github.com/DNS-OARC/dnsperf\n",
    "\n",
    "\n",
    "For some strange reason dnsperf isn't available on aptitude and you have to build it from source."
   ]
  },
  {
   "cell_type": "code",
   "execution_count": 83,
   "id": "9ed568d2-fa0b-448a-9454-0b5c0cf29bc3",
   "metadata": {},
   "outputs": [],
   "source": [
    "res = ! dnsperf  -v -n 1000 -s 1.1.1.1 -d dnsperf-queries.txt"
   ]
  },
  {
   "cell_type": "code",
   "execution_count": 85,
   "id": "8b6d44fe-9482-41c4-9f4e-ebb799589762",
   "metadata": {},
   "outputs": [],
   "source": [
    "records = [l.split(\" \")[1:] for l in res if \">\" in l]\n",
    "# records"
   ]
  },
  {
   "cell_type": "code",
   "execution_count": 86,
   "id": "0546308c-c404-4096-9c4c-4bafd9163d17",
   "metadata": {},
   "outputs": [],
   "source": [
    "df = pd.DataFrame(records, columns=[\"code\", \"server\", \"rr\", \"latency\"])\n",
    "df[\"latency\"]=  pd.to_numeric(df.latency)"
   ]
  },
  {
   "cell_type": "code",
   "execution_count": 87,
   "id": "181a373f-fd2b-4d41-a0de-487ab1bb5334",
   "metadata": {},
   "outputs": [
    {
     "data": {
      "text/plain": [
       "rr\n",
       "A        0.056626\n",
       "HTTPS    0.056006\n",
       "MX       0.056162\n",
       "NS       0.056179\n",
       "RRSIG    0.056231\n",
       "Name: latency, dtype: float64"
      ]
     },
     "execution_count": 87,
     "metadata": {},
     "output_type": "execute_result"
    }
   ],
   "source": [
    "df.groupby(\"rr\").latency.mean()"
   ]
  },
  {
   "cell_type": "code",
   "execution_count": 90,
   "id": "6193b8a6-72f7-41d0-8763-cd02dd55227d",
   "metadata": {},
   "outputs": [
    {
     "data": {
      "text/plain": [
       "NOERROR    4863\n",
       "T           137\n",
       "Name: code, dtype: int64"
      ]
     },
     "execution_count": 90,
     "metadata": {},
     "output_type": "execute_result"
    }
   ],
   "source": [
    "df.code.value_counts()"
   ]
  },
  {
   "cell_type": "code",
   "execution_count": 92,
   "id": "1d843f8a-2555-4f9b-83fb-fa98c33f8ef5",
   "metadata": {},
   "outputs": [
    {
     "data": {
      "text/plain": [
       "5000"
      ]
     },
     "execution_count": 92,
     "metadata": {},
     "output_type": "execute_result"
    }
   ],
   "source": [
    "len(df)"
   ]
  },
  {
   "cell_type": "markdown",
   "id": "c0f5b2f6-f40c-4a36-8dd2-a77157a55362",
   "metadata": {},
   "source": [
    "Measure the performance of different Name Servers when processing the same\n",
    "set of queries. Did the response time vary with the Name Server? Does it depend\n",
    "on the type of query or on the geographic location of the Name Server?\n",
    "\n"
   ]
  },
  {
   "cell_type": "markdown",
   "id": "0d87cdf8-04b7-46a8-85c1-07595275c589",
   "metadata": {},
   "source": [
    "## Queried Nameservers: Cloudflare, Google, Cisco, Quad9"
   ]
  },
  {
   "cell_type": "code",
   "execution_count": 2,
   "id": "ddb292ef-9f05-4dc3-b60f-f30502ec713d",
   "metadata": {},
   "outputs": [],
   "source": [
    "queries = ! cat dnsperf-queries.txt\n",
    "queries = [q.split(\" \")[1] for q in queries if len(q) >= 2]"
   ]
  },
  {
   "cell_type": "code",
   "execution_count": 3,
   "id": "f82a8d9b-d7c0-46cc-b1e7-92026ef774d4",
   "metadata": {},
   "outputs": [
    {
     "data": {
      "text/plain": [
       "['A', 'NS', 'MX', 'HTTPS', 'RRSIG']"
      ]
     },
     "execution_count": 3,
     "metadata": {},
     "output_type": "execute_result"
    }
   ],
   "source": [
    "queries"
   ]
  },
  {
   "cell_type": "code",
   "execution_count": 5,
   "id": "6873eeae-844e-4fd6-bb46-715334018894",
   "metadata": {},
   "outputs": [
    {
     "name": "stdout",
     "output_type": "stream",
     "text": [
      "dnseval -t A -c 50 -f name-servers.txt google.com\n",
      "server             avg(ms)     min(ms)     max(ms)     stddev(ms)  lost(%)  ttl        flags\n",
      "-----------------------------------------------------------------------------------------------------------\n",
      "1.1.1.1            42.097      27.729      270.599     39.231      %2       85         QR -- -- RD RA -- --\n",
      "8.8.8.8            37.794      26.125      56.677      6.292       %0       113        QR -- -- RD RA -- --\n",
      "208.67.222.222     52.254      44.522      70.872      5.988       %0       300        QR -- -- RD RA -- --\n",
      "9.9.9.9            41.650      34.372      62.676      5.794       %0       151        QR -- -- RD RA -- --\n",
      "\n",
      "dnseval -t NS -c 50 -f name-servers.txt google.com\n",
      "server             avg(ms)     min(ms)     max(ms)     stddev(ms)  lost(%)  ttl        flags\n",
      "-----------------------------------------------------------------------------------------------------------\n",
      "1.1.1.1            35.066      27.112      52.984      6.139       %0       342470     QR -- -- RD RA -- --\n",
      "8.8.8.8            38.050      26.735      184.345     21.607      %0       17266      QR -- -- RD RA -- --\n",
      "208.67.222.222     63.360      41.317      263.224     39.664      %0       345600     QR -- -- RD RA -- --\n",
      "9.9.9.9            42.615      34.899      169.317     18.743      %0       17390      QR -- -- RD RA -- --\n",
      "\n",
      "dnseval -t MX -c 50 -f name-servers.txt google.com\n",
      "server             avg(ms)     min(ms)     max(ms)     stddev(ms)  lost(%)  ttl        flags\n",
      "-----------------------------------------------------------------------------------------------------------\n",
      "1.1.1.1            35.458      27.751      65.374      8.689       %0       299        QR -- -- RD RA -- --\n",
      "8.8.8.8            44.613      27.794      272.983     33.774      %0       255        QR -- -- RD RA -- --\n",
      "208.67.222.222     56.863      45.291      215.889     24.447      %0       300        QR -- -- RD RA -- --\n",
      "9.9.9.9            42.851      34.401      65.823      7.066       %0       297        QR -- -- RD RA -- --\n",
      "\n",
      "dnseval -t HTTPS -c 50 -f name-servers.txt google.com\n",
      "server             avg(ms)     min(ms)     max(ms)     stddev(ms)  lost(%)  ttl        flags\n",
      "-----------------------------------------------------------------------------------------------------------\n",
      "1.1.1.1: DNS resource record type is unknown.\n",
      "8.8.8.8: DNS resource record type is unknown.\n",
      "208.67.222.222: DNS resource record type is unknown.\n",
      "9.9.9.9: DNS resource record type is unknown.\n",
      "\n",
      "dnseval -t RRSIG -c 50 -f name-servers.txt google.com\n",
      "server             avg(ms)     min(ms)     max(ms)     stddev(ms)  lost(%)  ttl        flags\n",
      "-----------------------------------------------------------------------------------------------------------\n",
      "1.1.1.1            35.073      26.872      58.248      7.452       %0       N/A        QR -- -- RD RA -- --\n",
      "8.8.8.8            40.500      26.779      67.815      9.565       %0       N/A        QR -- -- RD RA -- --\n",
      "208.67.222.222     0.000       0.000       0.000       0.000       %100     N/A        -- -- -- -- -- -- --\n",
      "9.9.9.9            42.767      34.877      78.202      7.411       %0       N/A        QR -- -- RD RA -- --\n",
      "\n"
     ]
    }
   ],
   "source": [
    "for q in queries:\n",
    "    print(f\"dnseval -t {q} -c 50 -f name-servers.txt google.com\")\n",
    "    ! dnseval -t {q} -c 50 -f name-servers.txt google.com\n",
    "    print()"
   ]
  },
  {
   "cell_type": "markdown",
   "id": "4d0e823a-b09a-4714-a8d8-af1761f9d96e",
   "metadata": {},
   "source": [
    "Check the path followed by your queries using different Name Servers; did you\n",
    "notice any expected/unexpected behavior?"
   ]
  },
  {
   "cell_type": "code",
   "execution_count": 40,
   "id": "4d6cda1d-ee29-4fcf-86f8-0fcc0ae3c821",
   "metadata": {},
   "outputs": [
    {
     "data": {
      "text/plain": [
       "['1.1.1.1', '8.8.8.8', '208.67.222.222', '9.9.9.9']"
      ]
     },
     "execution_count": 40,
     "metadata": {},
     "output_type": "execute_result"
    }
   ],
   "source": [
    "nameservers = ! cat name-servers.txt\n",
    "nameservers"
   ]
  },
  {
   "cell_type": "code",
   "execution_count": 41,
   "id": "3fa0aac5-df82-45a8-a4db-20cadc46a4f1",
   "metadata": {},
   "outputs": [],
   "source": [
    "p=\"putyourpasswordinherethenmakesureyoudontcommititorelsebadthingswillhappen\""
   ]
  },
  {
   "cell_type": "code",
   "execution_count": 45,
   "id": "f1222154-ee64-4cfc-b114-ad501f681dfd",
   "metadata": {},
   "outputs": [
    {
     "name": "stdout",
     "output_type": "stream",
     "text": [
      "sudo -S dnstraceroute -s 1.1.1.1 google.com\n",
      "[sudo] password for aiman: dnstraceroute DNS: 1.1.1.1:53, hostname: google.com, rdatatype: A\n",
      "1\t_gateway (192.168.1.1) 2.263 ms\n",
      "2\t172.16.129.129 (172.16.129.129) 43.932 ms\n",
      "3\t172.16.129.50 (172.16.129.50) 36.827 ms\n",
      "4\t172.16.14.50 (172.16.14.50) 222.411 ms\n",
      "5\t151.7.82.67 (151.7.82.67) 36.511 ms\n",
      "6\t151.7.80.14 (151.7.80.14) 81.912 ms\n",
      "7\t151.6.0.148 (151.6.0.148) 50.952 ms\n",
      "8\t *\n",
      "9\t *\n",
      "10\t188.114.100.11 (188.114.100.11) 1004.079 ms\n",
      "11\tone.one.one.one (1.1.1.1) 54.646 ms\n",
      "\n",
      "sudo -S dnstraceroute -s 8.8.8.8 google.com\n",
      "[sudo] password for aiman: dnstraceroute DNS: 8.8.8.8:53, hostname: google.com, rdatatype: A\n",
      "1\t_gateway (192.168.1.1) 2.984 ms\n",
      "2\t172.16.129.129 (172.16.129.129) 44.946 ms\n",
      "3\t172.16.129.50 (172.16.129.50) 37.694 ms\n",
      "4\t172.16.14.50 (172.16.14.50) 33.580 ms\n",
      "5\t151.7.82.67 (151.7.82.67) 47.548 ms\n",
      "6\t151.7.80.14 (151.7.80.14) 39.057 ms\n",
      "7\t151.6.0.148 (151.6.0.148) 55.735 ms\n",
      "8\t151.6.0.159 (151.6.0.159) 197.699 ms\n",
      "9\t74.125.32.80 (74.125.32.80) 44.549 ms\n",
      "10\t72.14.238.234 (72.14.238.234) 48.341 ms\n",
      "11\t142.250.212.245 (142.250.212.245) 52.308 ms\n",
      "12\tdns.google (8.8.8.8) 164.189 ms\n",
      "\n",
      "sudo -S dnstraceroute -s 208.67.222.222 google.com\n",
      "[sudo] password for aiman: dnstraceroute DNS: 208.67.222.222:53, hostname: google.com, rdatatype: A\n",
      "1\t_gateway (192.168.1.1) 3.201 ms\n",
      "2\t172.16.129.129 (172.16.129.129) 307.899 ms\n",
      "3\t172.16.129.50 (172.16.129.50) 267.432 ms\n",
      "4\t172.16.14.50 (172.16.14.50) 40.785 ms\n",
      "5\t151.7.82.67 (151.7.82.67) 39.006 ms\n",
      "6\t151.7.80.14 (151.7.80.14) 45.627 ms\n",
      "7\t151.6.0.148 (151.6.0.148) 32.896 ms\n",
      "8\t151.6.1.176 (151.6.1.176) 38.888 ms\n",
      "9\tcisco.mix-it.net (217.29.67.41) 45.193 ms\n",
      "10\tresolver1.opendns.com (208.67.222.222) 59.518 ms\n",
      "\n",
      "sudo -S dnstraceroute -s 9.9.9.9 google.com\n",
      "[sudo] password for aiman: dnstraceroute DNS: 9.9.9.9:53, hostname: google.com, rdatatype: A\n",
      "1\t_gateway (192.168.1.1) 3.074 ms\n",
      "2\t172.16.129.129 (172.16.129.129) 53.901 ms\n",
      "3\t172.16.129.50 (172.16.129.50) 39.745 ms\n",
      "4\t172.16.14.50 (172.16.14.50) 43.283 ms\n",
      "5\t151.7.82.67 (151.7.82.67) 42.424 ms\n",
      "6\t151.7.80.14 (151.7.80.14) 39.865 ms\n",
      "7\tmilo-b02-miot-t02-ge1-1.wind.it (151.6.7.42) 42.617 ms\n",
      "8\t151.6.2.29 (151.6.2.29) 53.350 ms\n",
      "9\t151.6.1.213 (151.6.1.213) 47.075 ms\n",
      "10\tpch-as42-nap.namex.it (193.201.28.152) 62.091 ms\n",
      "11\t *\n",
      "12\tdns9.quad9.net (9.9.9.9) 59.102 ms\n",
      "\n"
     ]
    }
   ],
   "source": [
    "for ns in nameservers:\n",
    "    print(f\"sudo -S dnstraceroute -s {ns} google.com\")\n",
    "    ! echo {p} | sudo -S dnstraceroute -s {ns} google.com\n",
    "    print()"
   ]
  }
 ],
 "metadata": {
  "kernelspec": {
   "display_name": "Python 3 (ipykernel)",
   "language": "python",
   "name": "python3"
  },
  "language_info": {
   "codemirror_mode": {
    "name": "ipython",
    "version": 3
   },
   "file_extension": ".py",
   "mimetype": "text/x-python",
   "name": "python",
   "nbconvert_exporter": "python",
   "pygments_lexer": "ipython3",
   "version": "3.8.10"
  }
 },
 "nbformat": 4,
 "nbformat_minor": 5
}
