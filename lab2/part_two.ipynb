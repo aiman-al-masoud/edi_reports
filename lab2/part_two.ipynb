{
 "cells": [
  {
   "cell_type": "markdown",
   "id": "dae0b841-f878-494f-891d-3eba3894e9f4",
   "metadata": {},
   "source": [
    "Performance/auditing experiments: \n",
    "    \n",
    "test the behavior of different Name Servers using\n",
    "diagnostic tools, such as dnsperf, dnsping, dnstraceroute, dnseval,\n",
    "reseval.\n",
    "\n",
    "\n",
    "Measure the performance of a Name Server when processing multiple queries. Did\n",
    "you notice any variability? Any expected/unexpected behavior?\n",
    "o Measure the performance of different Name Servers when processing the same\n",
    "set of queries. Did the response time vary with the Name Server? Does it depend\n",
    "on the type of query or on the geographic location of the Name Server?\n",
    "o Check the path followed by your queries using different Name Servers; did you\n",
    "notice any expected/unexpected behavior?"
   ]
  }
 ],
 "metadata": {
  "kernelspec": {
   "display_name": "Python 3 (ipykernel)",
   "language": "python",
   "name": "python3"
  },
  "language_info": {
   "codemirror_mode": {
    "name": "ipython",
    "version": 3
   },
   "file_extension": ".py",
   "mimetype": "text/x-python",
   "name": "python",
   "nbconvert_exporter": "python",
   "pygments_lexer": "ipython3",
   "version": "3.8.10"
  }
 },
 "nbformat": 4,
 "nbformat_minor": 5
}
