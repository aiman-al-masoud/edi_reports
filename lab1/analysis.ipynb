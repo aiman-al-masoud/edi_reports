{
 "cells": [
  {
   "cell_type": "code",
   "execution_count": 1,
   "id": "c55aacd7-849d-4d70-a20e-ad0f2f5dbf1a",
   "metadata": {},
   "outputs": [],
   "source": [
    "import re\n",
    "from matplotlib import pyplot as plt\n",
    "import pandas as pd"
   ]
  },
  {
   "cell_type": "code",
   "execution_count": 2,
   "id": "97f64b00-7c25-48db-a9fb-8b3277af6be3",
   "metadata": {},
   "outputs": [],
   "source": [
    "with open(\"traceroute1649317892.txt\") as f:\n",
    "    buf = f.read()"
   ]
  },
  {
   "cell_type": "code",
   "execution_count": 3,
   "id": "a3722544-0731-4af0-9e01-42682c2f00f5",
   "metadata": {},
   "outputs": [],
   "source": [
    "parts = [p for p in  buf.split(\"START\") if p not in [\"\"]]"
   ]
  },
  {
   "cell_type": "code",
   "execution_count": null,
   "id": "3c3cbbd7-0763-45d9-92e2-0f2e3e740ce3",
   "metadata": {},
   "outputs": [],
   "source": []
  },
  {
   "cell_type": "code",
   "execution_count": 4,
   "id": "f9de918f-aa8b-4b75-8429-1c6a7edd35d6",
   "metadata": {},
   "outputs": [],
   "source": [
    "def dump_to_tuple(dump):\n",
    "    \n",
    "    \"\"\"\n",
    "    Converts a raw traceroute data-dump into a summarized tuple.\n",
    "    \"\"\"\n",
    "    \n",
    "    # timestamp\n",
    "    lines = [l for l in dump.split(\"\\n\") if l not in [ \"\" ] ]\n",
    "    timestamp = int( lines[0])\n",
    "    \n",
    "    # first line (beside the timestamp)\n",
    "    l1 = lines[1]\n",
    "    # last line \n",
    "    last = lines[-1]\n",
    "    \n",
    "    try:\n",
    "        ip1 = re.match(\".*\\((.*)\\).*\", l1).group(1)\n",
    "        ip2 = re.match(\".*\\((.*)\\).*\", last).group(1)\n",
    "    except:\n",
    "        pass\n",
    "    \n",
    "    # check if target was reached \n",
    "    reached = ip1==ip2!=None\n",
    "    \n",
    "    # number of hops\n",
    "    hops = int(last [:4] )\n",
    "    \n",
    "    # target latency (ms)\n",
    "    try:    \n",
    "        times = re.findall(\"\\d+.\\d+ ms\", last)\n",
    "        times = [float(t.replace(\"ms\", \"\")) for t in times ]\n",
    "        latency = sum(times)/len(times)\n",
    "    except:\n",
    "        latency = None\n",
    "    \n",
    "    return (timestamp, hops, reached, latency)"
   ]
  },
  {
   "cell_type": "markdown",
   "id": "9d61eab3-a808-4ba8-b95c-95d531064ad5",
   "metadata": {},
   "source": [
    "# Convert dumps to dataframe"
   ]
  },
  {
   "cell_type": "code",
   "execution_count": 5,
   "id": "afa9be79-ed80-4f7c-b489-9a4ad53630b7",
   "metadata": {},
   "outputs": [],
   "source": [
    "tuples = [dump_to_tuple(p) for p in parts]"
   ]
  },
  {
   "cell_type": "code",
   "execution_count": 6,
   "id": "585ec9f4-92a4-4e90-ab98-f23718bf8cb6",
   "metadata": {},
   "outputs": [],
   "source": [
    "df = pd.DataFrame(tuples, columns=[\"timestamp\", \"hops\", \"reached\", \"latency\"])"
   ]
  },
  {
   "cell_type": "code",
   "execution_count": null,
   "id": "88c2d985-66a2-487e-a8fd-d84e10da0e6e",
   "metadata": {},
   "outputs": [],
   "source": []
  },
  {
   "cell_type": "markdown",
   "id": "d3823ace-d227-43ea-83fe-75e73b3e587f",
   "metadata": {},
   "source": [
    "## Re-format timestamp"
   ]
  },
  {
   "cell_type": "code",
   "execution_count": 7,
   "id": "dfd94c3d-6c62-4716-bd51-86c25b91fa43",
   "metadata": {},
   "outputs": [],
   "source": [
    "df[\"timestamp\"] = pd.to_datetime(df.timestamp, unit=\"s\")"
   ]
  },
  {
   "cell_type": "code",
   "execution_count": 8,
   "id": "ab4a60cc-8a56-4d62-a6eb-441857b144fa",
   "metadata": {},
   "outputs": [],
   "source": [
    "df = df.set_index(\"timestamp\")"
   ]
  },
  {
   "cell_type": "markdown",
   "id": "135b24bc-6472-43c5-bd3f-fa5be042a7fe",
   "metadata": {},
   "source": [
    "## Group readings by hour (get mean)"
   ]
  },
  {
   "cell_type": "code",
   "execution_count": 9,
   "id": "2a7bfa2d-f0b4-4988-8d91-9bd2b5d984b8",
   "metadata": {},
   "outputs": [],
   "source": [
    "# TODO: group by hour once you have enough data\n",
    "# group the same hour from different days!\n",
    "df = df.resample(\"60min\").aggregate(\"mean\")\n",
    "# variance could be of interest as well (higher variance => network is unstable):\n",
    "# df = df.resample(\"1min\").aggregate(\"var\")"
   ]
  },
  {
   "cell_type": "code",
   "execution_count": 10,
   "id": "d79f8ffe-445e-4d7b-8476-16bb0b840180",
   "metadata": {},
   "outputs": [],
   "source": [
    "# df"
   ]
  },
  {
   "cell_type": "code",
   "execution_count": 11,
   "id": "601247cd-443a-4ef9-afa7-6d3c44cf8bb2",
   "metadata": {},
   "outputs": [],
   "source": [
    "df[\"dropped\"] = 1 - df.reached"
   ]
  },
  {
   "cell_type": "code",
   "execution_count": 12,
   "id": "9cdf8c26-a67c-4d09-815a-055e8633abd9",
   "metadata": {},
   "outputs": [
    {
     "data": {
      "text/html": [
       "<div>\n",
       "<style scoped>\n",
       "    .dataframe tbody tr th:only-of-type {\n",
       "        vertical-align: middle;\n",
       "    }\n",
       "\n",
       "    .dataframe tbody tr th {\n",
       "        vertical-align: top;\n",
       "    }\n",
       "\n",
       "    .dataframe thead th {\n",
       "        text-align: right;\n",
       "    }\n",
       "</style>\n",
       "<table border=\"1\" class=\"dataframe\">\n",
       "  <thead>\n",
       "    <tr style=\"text-align: right;\">\n",
       "      <th></th>\n",
       "      <th>hops</th>\n",
       "      <th>reached</th>\n",
       "      <th>latency</th>\n",
       "      <th>dropped</th>\n",
       "    </tr>\n",
       "    <tr>\n",
       "      <th>timestamp</th>\n",
       "      <th></th>\n",
       "      <th></th>\n",
       "      <th></th>\n",
       "      <th></th>\n",
       "    </tr>\n",
       "  </thead>\n",
       "  <tbody>\n",
       "    <tr>\n",
       "      <th>2022-04-07 08:00:00</th>\n",
       "      <td>13.142857</td>\n",
       "      <td>1.0</td>\n",
       "      <td>0.972357</td>\n",
       "      <td>0.0</td>\n",
       "    </tr>\n",
       "    <tr>\n",
       "      <th>2022-04-07 09:00:00</th>\n",
       "      <td>13.250000</td>\n",
       "      <td>1.0</td>\n",
       "      <td>1.046972</td>\n",
       "      <td>0.0</td>\n",
       "    </tr>\n",
       "    <tr>\n",
       "      <th>2022-04-07 10:00:00</th>\n",
       "      <td>13.666667</td>\n",
       "      <td>1.0</td>\n",
       "      <td>0.640069</td>\n",
       "      <td>0.0</td>\n",
       "    </tr>\n",
       "    <tr>\n",
       "      <th>2022-04-07 11:00:00</th>\n",
       "      <td>13.727273</td>\n",
       "      <td>1.0</td>\n",
       "      <td>0.741530</td>\n",
       "      <td>0.0</td>\n",
       "    </tr>\n",
       "    <tr>\n",
       "      <th>2022-04-07 12:00:00</th>\n",
       "      <td>14.083333</td>\n",
       "      <td>1.0</td>\n",
       "      <td>0.716292</td>\n",
       "      <td>0.0</td>\n",
       "    </tr>\n",
       "    <tr>\n",
       "      <th>...</th>\n",
       "      <td>...</td>\n",
       "      <td>...</td>\n",
       "      <td>...</td>\n",
       "      <td>...</td>\n",
       "    </tr>\n",
       "    <tr>\n",
       "      <th>2022-04-14 11:00:00</th>\n",
       "      <td>12.833333</td>\n",
       "      <td>1.0</td>\n",
       "      <td>0.610708</td>\n",
       "      <td>0.0</td>\n",
       "    </tr>\n",
       "    <tr>\n",
       "      <th>2022-04-14 12:00:00</th>\n",
       "      <td>12.750000</td>\n",
       "      <td>1.0</td>\n",
       "      <td>0.602347</td>\n",
       "      <td>0.0</td>\n",
       "    </tr>\n",
       "    <tr>\n",
       "      <th>2022-04-14 13:00:00</th>\n",
       "      <td>13.916667</td>\n",
       "      <td>1.0</td>\n",
       "      <td>0.618611</td>\n",
       "      <td>0.0</td>\n",
       "    </tr>\n",
       "    <tr>\n",
       "      <th>2022-04-14 14:00:00</th>\n",
       "      <td>13.818182</td>\n",
       "      <td>1.0</td>\n",
       "      <td>0.612424</td>\n",
       "      <td>0.0</td>\n",
       "    </tr>\n",
       "    <tr>\n",
       "      <th>2022-04-14 15:00:00</th>\n",
       "      <td>13.888889</td>\n",
       "      <td>1.0</td>\n",
       "      <td>0.533630</td>\n",
       "      <td>0.0</td>\n",
       "    </tr>\n",
       "  </tbody>\n",
       "</table>\n",
       "<p>176 rows × 4 columns</p>\n",
       "</div>"
      ],
      "text/plain": [
       "                          hops  reached   latency  dropped\n",
       "timestamp                                                 \n",
       "2022-04-07 08:00:00  13.142857      1.0  0.972357      0.0\n",
       "2022-04-07 09:00:00  13.250000      1.0  1.046972      0.0\n",
       "2022-04-07 10:00:00  13.666667      1.0  0.640069      0.0\n",
       "2022-04-07 11:00:00  13.727273      1.0  0.741530      0.0\n",
       "2022-04-07 12:00:00  14.083333      1.0  0.716292      0.0\n",
       "...                        ...      ...       ...      ...\n",
       "2022-04-14 11:00:00  12.833333      1.0  0.610708      0.0\n",
       "2022-04-14 12:00:00  12.750000      1.0  0.602347      0.0\n",
       "2022-04-14 13:00:00  13.916667      1.0  0.618611      0.0\n",
       "2022-04-14 14:00:00  13.818182      1.0  0.612424      0.0\n",
       "2022-04-14 15:00:00  13.888889      1.0  0.533630      0.0\n",
       "\n",
       "[176 rows x 4 columns]"
      ]
     },
     "execution_count": 12,
     "metadata": {},
     "output_type": "execute_result"
    }
   ],
   "source": [
    "df"
   ]
  },
  {
   "cell_type": "code",
   "execution_count": 13,
   "id": "06a030e3-5dd0-4522-9af0-a544fc28285c",
   "metadata": {},
   "outputs": [
    {
     "data": {
      "text/plain": [
       "<AxesSubplot:xlabel='timestamp', ylabel='latency (ms)'>"
      ]
     },
     "execution_count": 13,
     "metadata": {},
     "output_type": "execute_result"
    },
    {
     "data": {
      "image/png": "[encoded data removed]",
      "text/plain": [
       "<Figure size 432x288 with 1 Axes>"
      ]
     },
     "metadata": {
      "needs_background": "light"
     },
     "output_type": "display_data"
    }
   ],
   "source": [
    "plt.ylabel(\"latency (ms)\")\n",
    "df.latency.plot()"
   ]
  },
  {
   "cell_type": "code",
   "execution_count": 14,
   "id": "0425e987-fb87-41a6-b2db-6681b7160550",
   "metadata": {},
   "outputs": [
    {
     "data": {
      "text/plain": [
       "<AxesSubplot:xlabel='timestamp', ylabel='drop-rate'>"
      ]
     },
     "execution_count": 14,
     "metadata": {},
     "output_type": "execute_result"
    },
    {
     "data": {
      "image/png": "[encoded data removed]",
      "text/plain": [
       "<Figure size 432x288 with 1 Axes>"
      ]
     },
     "metadata": {
      "needs_background": "light"
     },
     "output_type": "display_data"
    }
   ],
   "source": [
    "plt.ylabel(\"drop-rate\")\n",
    "df.dropped.plot()"
   ]
  },
  {
   "cell_type": "code",
   "execution_count": 15,
   "id": "c81f98ea-9e6d-4197-85d3-2c811e5aa358",
   "metadata": {},
   "outputs": [
    {
     "data": {
      "text/plain": [
       "<AxesSubplot:xlabel='timestamp', ylabel='hops'>"
      ]
     },
     "execution_count": 15,
     "metadata": {},
     "output_type": "execute_result"
    },
    {
     "data": {
      "image/png": "[encoded data removed]",
      "text/plain": [
       "<Figure size 432x288 with 1 Axes>"
      ]
     },
     "metadata": {
      "needs_background": "light"
     },
     "output_type": "display_data"
    }
   ],
   "source": [
    "plt.ylabel(\"hops\")\n",
    "df.hops.plot()"
   ]
  },
  {
   "cell_type": "code",
   "execution_count": null,
   "id": "deb63535-83a7-4a27-ada0-7ad103478a22",
   "metadata": {},
   "outputs": [],
   "source": []
  },
  {
   "cell_type": "code",
   "execution_count": null,
   "id": "a819bad2-2f34-42fe-b84b-51862c0c684b",
   "metadata": {},
   "outputs": [],
   "source": []
  },
  {
   "cell_type": "code",
   "execution_count": null,
   "id": "b7f55398-d2f6-4b1b-8131-7b280ed16821",
   "metadata": {},
   "outputs": [],
   "source": []
  },
  {
   "cell_type": "code",
   "execution_count": null,
   "id": "cc276498-c63e-439a-8680-7b4086914025",
   "metadata": {},
   "outputs": [],
   "source": []
  },
  {
   "cell_type": "code",
   "execution_count": 16,
   "id": "22319450-1e54-4058-95e6-2e84e9ade6de",
   "metadata": {},
   "outputs": [],
   "source": [
    "df[\"hour\"] = df.index.hour"
   ]
  },
  {
   "cell_type": "code",
   "execution_count": 17,
   "id": "9749bab6-1ecc-4d1a-bea8-a1c30fa23380",
   "metadata": {},
   "outputs": [
    {
     "data": {
      "text/html": [
       "<div>\n",
       "<style scoped>\n",
       "    .dataframe tbody tr th:only-of-type {\n",
       "        vertical-align: middle;\n",
       "    }\n",
       "\n",
       "    .dataframe tbody tr th {\n",
       "        vertical-align: top;\n",
       "    }\n",
       "\n",
       "    .dataframe thead th {\n",
       "        text-align: right;\n",
       "    }\n",
       "</style>\n",
       "<table border=\"1\" class=\"dataframe\">\n",
       "  <thead>\n",
       "    <tr style=\"text-align: right;\">\n",
       "      <th></th>\n",
       "      <th>hops</th>\n",
       "      <th>reached</th>\n",
       "      <th>latency</th>\n",
       "      <th>dropped</th>\n",
       "      <th>hour</th>\n",
       "    </tr>\n",
       "    <tr>\n",
       "      <th>timestamp</th>\n",
       "      <th></th>\n",
       "      <th></th>\n",
       "      <th></th>\n",
       "      <th></th>\n",
       "      <th></th>\n",
       "    </tr>\n",
       "  </thead>\n",
       "  <tbody>\n",
       "    <tr>\n",
       "      <th>2022-04-07 08:00:00</th>\n",
       "      <td>13.142857</td>\n",
       "      <td>1.0</td>\n",
       "      <td>0.972357</td>\n",
       "      <td>0.0</td>\n",
       "      <td>8</td>\n",
       "    </tr>\n",
       "    <tr>\n",
       "      <th>2022-04-07 09:00:00</th>\n",
       "      <td>13.250000</td>\n",
       "      <td>1.0</td>\n",
       "      <td>1.046972</td>\n",
       "      <td>0.0</td>\n",
       "      <td>9</td>\n",
       "    </tr>\n",
       "    <tr>\n",
       "      <th>2022-04-07 10:00:00</th>\n",
       "      <td>13.666667</td>\n",
       "      <td>1.0</td>\n",
       "      <td>0.640069</td>\n",
       "      <td>0.0</td>\n",
       "      <td>10</td>\n",
       "    </tr>\n",
       "    <tr>\n",
       "      <th>2022-04-07 11:00:00</th>\n",
       "      <td>13.727273</td>\n",
       "      <td>1.0</td>\n",
       "      <td>0.741530</td>\n",
       "      <td>0.0</td>\n",
       "      <td>11</td>\n",
       "    </tr>\n",
       "    <tr>\n",
       "      <th>2022-04-07 12:00:00</th>\n",
       "      <td>14.083333</td>\n",
       "      <td>1.0</td>\n",
       "      <td>0.716292</td>\n",
       "      <td>0.0</td>\n",
       "      <td>12</td>\n",
       "    </tr>\n",
       "  </tbody>\n",
       "</table>\n",
       "</div>"
      ],
      "text/plain": [
       "                          hops  reached   latency  dropped  hour\n",
       "timestamp                                                       \n",
       "2022-04-07 08:00:00  13.142857      1.0  0.972357      0.0     8\n",
       "2022-04-07 09:00:00  13.250000      1.0  1.046972      0.0     9\n",
       "2022-04-07 10:00:00  13.666667      1.0  0.640069      0.0    10\n",
       "2022-04-07 11:00:00  13.727273      1.0  0.741530      0.0    11\n",
       "2022-04-07 12:00:00  14.083333      1.0  0.716292      0.0    12"
      ]
     },
     "execution_count": 17,
     "metadata": {},
     "output_type": "execute_result"
    }
   ],
   "source": [
    "df.head()"
   ]
  },
  {
   "cell_type": "code",
   "execution_count": null,
   "id": "69b8ad5c-8c69-42b8-b499-7aec2bf9d66d",
   "metadata": {},
   "outputs": [],
   "source": []
  },
  {
   "cell_type": "code",
   "execution_count": 18,
   "id": "3297d8ca-2d51-4ab6-90b2-ef6170a4d132",
   "metadata": {},
   "outputs": [],
   "source": [
    "df1 = df.groupby(\"hour\").mean().latency.to_frame()"
   ]
  },
  {
   "cell_type": "code",
   "execution_count": 19,
   "id": "e7fddc89-1026-46f1-9e3c-469a0aebfa66",
   "metadata": {},
   "outputs": [],
   "source": [
    "df1 =  df1.rename(columns={\"latency\":\"mean_latency\"})"
   ]
  },
  {
   "cell_type": "code",
   "execution_count": 20,
   "id": "0292ed88-8670-43df-aff3-f00dc99ccaa2",
   "metadata": {},
   "outputs": [],
   "source": [
    "df1[\"std_err\"] = df.groupby(\"hour\").std().latency"
   ]
  },
  {
   "cell_type": "code",
   "execution_count": 21,
   "id": "572ff8b0-2b23-4e79-90a2-e091fe36b55e",
   "metadata": {},
   "outputs": [],
   "source": [
    "df1 = df1.sort_values(ascending=False, by=\"mean_latency\")"
   ]
  },
  {
   "cell_type": "code",
   "execution_count": 22,
   "id": "d805cf87-f6a1-4e25-afbd-6bc120bba20b",
   "metadata": {},
   "outputs": [
    {
     "data": {
      "text/html": [
       "<div>\n",
       "<style scoped>\n",
       "    .dataframe tbody tr th:only-of-type {\n",
       "        vertical-align: middle;\n",
       "    }\n",
       "\n",
       "    .dataframe tbody tr th {\n",
       "        vertical-align: top;\n",
       "    }\n",
       "\n",
       "    .dataframe thead th {\n",
       "        text-align: right;\n",
       "    }\n",
       "</style>\n",
       "<table border=\"1\" class=\"dataframe\">\n",
       "  <thead>\n",
       "    <tr style=\"text-align: right;\">\n",
       "      <th></th>\n",
       "      <th>mean_latency</th>\n",
       "      <th>std_err</th>\n",
       "    </tr>\n",
       "    <tr>\n",
       "      <th>hour</th>\n",
       "      <th></th>\n",
       "      <th></th>\n",
       "    </tr>\n",
       "  </thead>\n",
       "  <tbody>\n",
       "    <tr>\n",
       "      <th>14</th>\n",
       "      <td>0.734629</td>\n",
       "      <td>0.169578</td>\n",
       "    </tr>\n",
       "    <tr>\n",
       "      <th>17</th>\n",
       "      <td>0.731917</td>\n",
       "      <td>0.179329</td>\n",
       "    </tr>\n",
       "    <tr>\n",
       "      <th>8</th>\n",
       "      <td>0.730703</td>\n",
       "      <td>0.179009</td>\n",
       "    </tr>\n",
       "    <tr>\n",
       "      <th>19</th>\n",
       "      <td>0.721593</td>\n",
       "      <td>0.148469</td>\n",
       "    </tr>\n",
       "    <tr>\n",
       "      <th>9</th>\n",
       "      <td>0.719397</td>\n",
       "      <td>0.188321</td>\n",
       "    </tr>\n",
       "    <tr>\n",
       "      <th>22</th>\n",
       "      <td>0.696383</td>\n",
       "      <td>0.173753</td>\n",
       "    </tr>\n",
       "    <tr>\n",
       "      <th>0</th>\n",
       "      <td>0.686992</td>\n",
       "      <td>0.185397</td>\n",
       "    </tr>\n",
       "    <tr>\n",
       "      <th>11</th>\n",
       "      <td>0.680655</td>\n",
       "      <td>0.167985</td>\n",
       "    </tr>\n",
       "    <tr>\n",
       "      <th>15</th>\n",
       "      <td>0.678331</td>\n",
       "      <td>0.144135</td>\n",
       "    </tr>\n",
       "    <tr>\n",
       "      <th>13</th>\n",
       "      <td>0.676382</td>\n",
       "      <td>0.151212</td>\n",
       "    </tr>\n",
       "    <tr>\n",
       "      <th>16</th>\n",
       "      <td>0.665358</td>\n",
       "      <td>0.118629</td>\n",
       "    </tr>\n",
       "    <tr>\n",
       "      <th>18</th>\n",
       "      <td>0.664970</td>\n",
       "      <td>0.147420</td>\n",
       "    </tr>\n",
       "    <tr>\n",
       "      <th>20</th>\n",
       "      <td>0.658171</td>\n",
       "      <td>0.117866</td>\n",
       "    </tr>\n",
       "    <tr>\n",
       "      <th>12</th>\n",
       "      <td>0.655178</td>\n",
       "      <td>0.102689</td>\n",
       "    </tr>\n",
       "    <tr>\n",
       "      <th>1</th>\n",
       "      <td>0.653836</td>\n",
       "      <td>0.185942</td>\n",
       "    </tr>\n",
       "    <tr>\n",
       "      <th>10</th>\n",
       "      <td>0.645779</td>\n",
       "      <td>0.088537</td>\n",
       "    </tr>\n",
       "    <tr>\n",
       "      <th>4</th>\n",
       "      <td>0.644303</td>\n",
       "      <td>0.198651</td>\n",
       "    </tr>\n",
       "    <tr>\n",
       "      <th>23</th>\n",
       "      <td>0.639462</td>\n",
       "      <td>0.070367</td>\n",
       "    </tr>\n",
       "    <tr>\n",
       "      <th>7</th>\n",
       "      <td>0.636578</td>\n",
       "      <td>0.178185</td>\n",
       "    </tr>\n",
       "    <tr>\n",
       "      <th>2</th>\n",
       "      <td>0.625796</td>\n",
       "      <td>0.141680</td>\n",
       "    </tr>\n",
       "    <tr>\n",
       "      <th>3</th>\n",
       "      <td>0.610412</td>\n",
       "      <td>0.076961</td>\n",
       "    </tr>\n",
       "    <tr>\n",
       "      <th>5</th>\n",
       "      <td>0.604996</td>\n",
       "      <td>0.131613</td>\n",
       "    </tr>\n",
       "    <tr>\n",
       "      <th>21</th>\n",
       "      <td>0.598853</td>\n",
       "      <td>0.115326</td>\n",
       "    </tr>\n",
       "    <tr>\n",
       "      <th>6</th>\n",
       "      <td>0.595786</td>\n",
       "      <td>0.081238</td>\n",
       "    </tr>\n",
       "  </tbody>\n",
       "</table>\n",
       "</div>"
      ],
      "text/plain": [
       "      mean_latency   std_err\n",
       "hour                        \n",
       "14        0.734629  0.169578\n",
       "17        0.731917  0.179329\n",
       "8         0.730703  0.179009\n",
       "19        0.721593  0.148469\n",
       "9         0.719397  0.188321\n",
       "22        0.696383  0.173753\n",
       "0         0.686992  0.185397\n",
       "11        0.680655  0.167985\n",
       "15        0.678331  0.144135\n",
       "13        0.676382  0.151212\n",
       "16        0.665358  0.118629\n",
       "18        0.664970  0.147420\n",
       "20        0.658171  0.117866\n",
       "12        0.655178  0.102689\n",
       "1         0.653836  0.185942\n",
       "10        0.645779  0.088537\n",
       "4         0.644303  0.198651\n",
       "23        0.639462  0.070367\n",
       "7         0.636578  0.178185\n",
       "2         0.625796  0.141680\n",
       "3         0.610412  0.076961\n",
       "5         0.604996  0.131613\n",
       "21        0.598853  0.115326\n",
       "6         0.595786  0.081238"
      ]
     },
     "execution_count": 22,
     "metadata": {},
     "output_type": "execute_result"
    }
   ],
   "source": [
    "df1"
   ]
  },
  {
   "cell_type": "code",
   "execution_count": null,
   "id": "40b4b35b-e439-4570-82d6-4abda9dfe050",
   "metadata": {},
   "outputs": [],
   "source": []
  },
  {
   "cell_type": "code",
   "execution_count": null,
   "id": "e3eda7f7-0489-49c4-a514-0aa4b98c2c4e",
   "metadata": {},
   "outputs": [],
   "source": []
  },
  {
   "cell_type": "code",
   "execution_count": null,
   "id": "bbefbcf5-358f-46c9-8429-e16f227eda00",
   "metadata": {},
   "outputs": [],
   "source": []
  },
  {
   "cell_type": "code",
   "execution_count": null,
   "id": "0b3386be-a4be-40c6-9c68-c860ad754f6a",
   "metadata": {},
   "outputs": [],
   "source": []
  },
  {
   "cell_type": "code",
   "execution_count": 23,
   "id": "3a103044-4915-483e-9280-640239126383",
   "metadata": {},
   "outputs": [
    {
     "data": {
      "text/plain": [
       "<AxesSubplot:xlabel='hour'>"
      ]
     },
     "execution_count": 23,
     "metadata": {},
     "output_type": "execute_result"
    },
    {
     "data": {
      "image/png": "[encoded data removed]",
      "text/plain": [
       "<Figure size 432x288 with 1 Axes>"
      ]
     },
     "metadata": {
      "needs_background": "light"
     },
     "output_type": "display_data"
    }
   ],
   "source": [
    "plt.xticks(list(range(24)))\n",
    "df.groupby(\"hour\").mean().latency.plot()"
   ]
  },
  {
   "cell_type": "code",
   "execution_count": 24,
   "id": "2de192c3-c04d-40ff-9679-42c5b4dffdc6",
   "metadata": {},
   "outputs": [],
   "source": [
    "# plt.xticks(list(range(24)))\n",
    "# df.groupby(\"hour\").var().latency.plot()"
   ]
  },
  {
   "cell_type": "code",
   "execution_count": 25,
   "id": "b9539c42-96f4-47cd-80a3-4ed552b060e9",
   "metadata": {},
   "outputs": [
    {
     "data": {
      "text/plain": [
       "<AxesSubplot:xlabel='hour'>"
      ]
     },
     "execution_count": 25,
     "metadata": {},
     "output_type": "execute_result"
    },
    {
     "data": {
      "image/png": "[encoded data removed]",
      "text/plain": [
       "<Figure size 432x288 with 1 Axes>"
      ]
     },
     "metadata": {
      "needs_background": "light"
     },
     "output_type": "display_data"
    }
   ],
   "source": [
    "plt.xticks(list(range(24)))\n",
    "df.groupby(\"hour\").std().latency.plot()"
   ]
  },
  {
   "cell_type": "code",
   "execution_count": null,
   "id": "abd6d5ba-522d-425a-800c-0ab68fa81202",
   "metadata": {},
   "outputs": [],
   "source": []
  },
  {
   "cell_type": "code",
   "execution_count": null,
   "id": "115013ca-ea90-4881-96ab-18a9ff0b5340",
   "metadata": {},
   "outputs": [],
   "source": []
  }
 ],
 "metadata": {
  "kernelspec": {
   "display_name": "Python 3 (ipykernel)",
   "language": "python",
   "name": "python3"
  },
  "language_info": {
   "codemirror_mode": {
    "name": "ipython",
    "version": 3
   },
   "file_extension": ".py",
   "mimetype": "text/x-python",
   "name": "python",
   "nbconvert_exporter": "python",
   "pygments_lexer": "ipython3",
   "version": "3.8.10"
  }
 },
 "nbformat": 4,
 "nbformat_minor": 5
}
