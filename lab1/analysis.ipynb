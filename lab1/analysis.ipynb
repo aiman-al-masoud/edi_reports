{
 "cells": [
  {
   "cell_type": "code",
   "execution_count": 1,
   "id": "c55aacd7-849d-4d70-a20e-ad0f2f5dbf1a",
   "metadata": {},
   "outputs": [],
   "source": [
    "import re\n",
    "from matplotlib import pyplot as plt\n",
    "import pandas as pd"
   ]
  },
  {
   "cell_type": "code",
   "execution_count": 2,
   "id": "97f64b00-7c25-48db-a9fb-8b3277af6be3",
   "metadata": {},
   "outputs": [],
   "source": [
    "with open(\"traceroute1649317892.txt\") as f:\n",
    "    buf = f.read()"
   ]
  },
  {
   "cell_type": "code",
   "execution_count": 3,
   "id": "a3722544-0731-4af0-9e01-42682c2f00f5",
   "metadata": {},
   "outputs": [],
   "source": [
    "parts = [p for p in  buf.split(\"START\") if p not in [\"\"]]"
   ]
  },
  {
   "cell_type": "code",
   "execution_count": 4,
   "id": "f9de918f-aa8b-4b75-8429-1c6a7edd35d6",
   "metadata": {},
   "outputs": [],
   "source": [
    "def dump_to_tuple(dump):\n",
    "    \n",
    "    \"\"\"\n",
    "    Converts a raw traceroute data-dump into a summarized tuple.\n",
    "    \"\"\"\n",
    "    \n",
    "    # timestamp\n",
    "    lines = [l for l in dump.split(\"\\n\") if l not in [ \"\" ] ]\n",
    "    timestamp = int( lines[0])\n",
    "    \n",
    "    # first line (beside the timestamp)\n",
    "    l1 = lines[1]\n",
    "    # last line \n",
    "    last = lines[-1]\n",
    "    \n",
    "    try:\n",
    "        ip1 = re.match(\".*\\((.*)\\).*\", l1).group(1)\n",
    "        ip2 = re.match(\".*\\((.*)\\).*\", last).group(1)\n",
    "    except:\n",
    "        pass\n",
    "    \n",
    "    # check if target was reached \n",
    "    reached = ip1==ip2!=None\n",
    "    \n",
    "    # number of hops\n",
    "    hops = int(last [:4] )\n",
    "    \n",
    "    # target latency (ms)\n",
    "    try:    \n",
    "        times = re.findall(\"\\d+.\\d+ ms\", last)\n",
    "        times = [float(t.replace(\"ms\", \"\")) for t in times ]\n",
    "        latency = sum(times)/len(times)\n",
    "    except:\n",
    "        latency = None\n",
    "    \n",
    "    return (timestamp, hops, reached, latency)"
   ]
  },
  {
   "cell_type": "markdown",
   "id": "9d61eab3-a808-4ba8-b95c-95d531064ad5",
   "metadata": {},
   "source": [
    "# Convert dumps to dataframe"
   ]
  },
  {
   "cell_type": "code",
   "execution_count": 5,
   "id": "afa9be79-ed80-4f7c-b489-9a4ad53630b7",
   "metadata": {},
   "outputs": [],
   "source": [
    "tuples = [dump_to_tuple(p) for p in parts]"
   ]
  },
  {
   "cell_type": "code",
   "execution_count": 6,
   "id": "585ec9f4-92a4-4e90-ab98-f23718bf8cb6",
   "metadata": {},
   "outputs": [],
   "source": [
    "df = pd.DataFrame(tuples, columns=[\"timestamp\", \"hops\", \"reached\", \"latency_ms\"])"
   ]
  },
  {
   "cell_type": "markdown",
   "id": "d3823ace-d227-43ea-83fe-75e73b3e587f",
   "metadata": {},
   "source": [
    "## Re-format timestamp"
   ]
  },
  {
   "cell_type": "code",
   "execution_count": 7,
   "id": "dfd94c3d-6c62-4716-bd51-86c25b91fa43",
   "metadata": {},
   "outputs": [],
   "source": [
    "df[\"timestamp\"] = pd.to_datetime(df.timestamp, unit=\"s\")"
   ]
  },
  {
   "cell_type": "code",
   "execution_count": 8,
   "id": "ab4a60cc-8a56-4d62-a6eb-441857b144fa",
   "metadata": {},
   "outputs": [],
   "source": [
    "df = df.set_index(\"timestamp\")"
   ]
  },
  {
   "cell_type": "markdown",
   "id": "1df90192-9ca5-45bb-a1d5-a9659d359395",
   "metadata": {},
   "source": [
    "## Compute mean and standard error of metrics over the hour (0-23)\n",
    "\n",
    "(All of the hours are in GMT)"
   ]
  },
  {
   "cell_type": "code",
   "execution_count": 9,
   "id": "8d790f63-ebfa-4619-8bae-53cb9de501ff",
   "metadata": {},
   "outputs": [],
   "source": [
    "df[\"hour\"] = df.index.hour"
   ]
  },
  {
   "cell_type": "code",
   "execution_count": 10,
   "id": "311bf3ee-8571-4815-974f-714527dd5944",
   "metadata": {},
   "outputs": [],
   "source": [
    "df2 = df.groupby(\"hour\").mean()\n",
    "std_errs = df.groupby(\"hour\").std().rename( columns= {\"hops\":\"hops_std_err\", \"reached\":\"reached_std_err\", \"latency_ms\":\"latency_ms_std_err\"} )\n",
    "df2 =  df2.merge(std_errs, on=\"hour\")"
   ]
  },
  {
   "cell_type": "markdown",
   "id": "cabe1d90-660c-4c83-8c22-d29233f499f4",
   "metadata": {},
   "source": [
    "### Rearrange columns:"
   ]
  },
  {
   "cell_type": "code",
   "execution_count": 11,
   "id": "c9174a79-87e7-4e03-aa1b-a71a8bb92bf0",
   "metadata": {},
   "outputs": [],
   "source": [
    "df2 = df2[[ \"latency_ms\", \"latency_ms_std_err\", \"hops\", \"hops_std_err\", \"reached\", \"reached_std_err\"  ]]"
   ]
  },
  {
   "cell_type": "code",
   "execution_count": 12,
   "id": "041d4ff2-6234-4adc-978c-42a52c1540a6",
   "metadata": {},
   "outputs": [
    {
     "data": {
      "text/html": [
       "<div>\n",
       "<style scoped>\n",
       "    .dataframe tbody tr th:only-of-type {\n",
       "        vertical-align: middle;\n",
       "    }\n",
       "\n",
       "    .dataframe tbody tr th {\n",
       "        vertical-align: top;\n",
       "    }\n",
       "\n",
       "    .dataframe thead th {\n",
       "        text-align: right;\n",
       "    }\n",
       "</style>\n",
       "<table border=\"1\" class=\"dataframe\">\n",
       "  <thead>\n",
       "    <tr style=\"text-align: right;\">\n",
       "      <th></th>\n",
       "      <th>latency_ms</th>\n",
       "      <th>latency_ms_std_err</th>\n",
       "      <th>hops</th>\n",
       "      <th>hops_std_err</th>\n",
       "      <th>reached</th>\n",
       "      <th>reached_std_err</th>\n",
       "    </tr>\n",
       "    <tr>\n",
       "      <th>hour</th>\n",
       "      <th></th>\n",
       "      <th></th>\n",
       "      <th></th>\n",
       "      <th></th>\n",
       "      <th></th>\n",
       "      <th></th>\n",
       "    </tr>\n",
       "  </thead>\n",
       "  <tbody>\n",
       "    <tr>\n",
       "      <th>0</th>\n",
       "      <td>0.687663</td>\n",
       "      <td>0.301914</td>\n",
       "      <td>13.337349</td>\n",
       "      <td>1.425184</td>\n",
       "      <td>1.0</td>\n",
       "      <td>0.0</td>\n",
       "    </tr>\n",
       "    <tr>\n",
       "      <th>1</th>\n",
       "      <td>0.656327</td>\n",
       "      <td>0.353805</td>\n",
       "      <td>13.481928</td>\n",
       "      <td>1.408696</td>\n",
       "      <td>1.0</td>\n",
       "      <td>0.0</td>\n",
       "    </tr>\n",
       "    <tr>\n",
       "      <th>2</th>\n",
       "      <td>0.627472</td>\n",
       "      <td>0.243442</td>\n",
       "      <td>13.317073</td>\n",
       "      <td>1.421858</td>\n",
       "      <td>1.0</td>\n",
       "      <td>0.0</td>\n",
       "    </tr>\n",
       "    <tr>\n",
       "      <th>3</th>\n",
       "      <td>0.610780</td>\n",
       "      <td>0.176079</td>\n",
       "      <td>13.573171</td>\n",
       "      <td>1.388049</td>\n",
       "      <td>1.0</td>\n",
       "      <td>0.0</td>\n",
       "    </tr>\n",
       "    <tr>\n",
       "      <th>4</th>\n",
       "      <td>0.643444</td>\n",
       "      <td>0.386437</td>\n",
       "      <td>13.204819</td>\n",
       "      <td>1.552017</td>\n",
       "      <td>1.0</td>\n",
       "      <td>0.0</td>\n",
       "    </tr>\n",
       "    <tr>\n",
       "      <th>5</th>\n",
       "      <td>0.603229</td>\n",
       "      <td>0.214326</td>\n",
       "      <td>13.590361</td>\n",
       "      <td>1.465341</td>\n",
       "      <td>1.0</td>\n",
       "      <td>0.0</td>\n",
       "    </tr>\n",
       "    <tr>\n",
       "      <th>6</th>\n",
       "      <td>0.597197</td>\n",
       "      <td>0.222220</td>\n",
       "      <td>13.602410</td>\n",
       "      <td>1.481098</td>\n",
       "      <td>1.0</td>\n",
       "      <td>0.0</td>\n",
       "    </tr>\n",
       "    <tr>\n",
       "      <th>7</th>\n",
       "      <td>0.636486</td>\n",
       "      <td>0.302468</td>\n",
       "      <td>13.512195</td>\n",
       "      <td>1.484437</td>\n",
       "      <td>1.0</td>\n",
       "      <td>0.0</td>\n",
       "    </tr>\n",
       "    <tr>\n",
       "      <th>8</th>\n",
       "      <td>0.716859</td>\n",
       "      <td>0.313766</td>\n",
       "      <td>13.433333</td>\n",
       "      <td>1.536449</td>\n",
       "      <td>1.0</td>\n",
       "      <td>0.0</td>\n",
       "    </tr>\n",
       "    <tr>\n",
       "      <th>9</th>\n",
       "      <td>0.723413</td>\n",
       "      <td>0.585715</td>\n",
       "      <td>13.223404</td>\n",
       "      <td>1.525089</td>\n",
       "      <td>1.0</td>\n",
       "      <td>0.0</td>\n",
       "    </tr>\n",
       "    <tr>\n",
       "      <th>10</th>\n",
       "      <td>0.646039</td>\n",
       "      <td>0.207536</td>\n",
       "      <td>13.452632</td>\n",
       "      <td>1.412470</td>\n",
       "      <td>1.0</td>\n",
       "      <td>0.0</td>\n",
       "    </tr>\n",
       "    <tr>\n",
       "      <th>11</th>\n",
       "      <td>0.682676</td>\n",
       "      <td>0.282490</td>\n",
       "      <td>13.265957</td>\n",
       "      <td>1.594180</td>\n",
       "      <td>1.0</td>\n",
       "      <td>0.0</td>\n",
       "    </tr>\n",
       "    <tr>\n",
       "      <th>12</th>\n",
       "      <td>0.656287</td>\n",
       "      <td>0.266308</td>\n",
       "      <td>13.702128</td>\n",
       "      <td>1.293738</td>\n",
       "      <td>1.0</td>\n",
       "      <td>0.0</td>\n",
       "    </tr>\n",
       "    <tr>\n",
       "      <th>13</th>\n",
       "      <td>0.673579</td>\n",
       "      <td>0.259941</td>\n",
       "      <td>13.347368</td>\n",
       "      <td>1.471491</td>\n",
       "      <td>1.0</td>\n",
       "      <td>0.0</td>\n",
       "    </tr>\n",
       "    <tr>\n",
       "      <th>14</th>\n",
       "      <td>0.736963</td>\n",
       "      <td>0.352166</td>\n",
       "      <td>13.372340</td>\n",
       "      <td>1.632888</td>\n",
       "      <td>1.0</td>\n",
       "      <td>0.0</td>\n",
       "    </tr>\n",
       "    <tr>\n",
       "      <th>15</th>\n",
       "      <td>0.682172</td>\n",
       "      <td>0.262265</td>\n",
       "      <td>13.304348</td>\n",
       "      <td>1.465644</td>\n",
       "      <td>1.0</td>\n",
       "      <td>0.0</td>\n",
       "    </tr>\n",
       "    <tr>\n",
       "      <th>16</th>\n",
       "      <td>0.665301</td>\n",
       "      <td>0.270849</td>\n",
       "      <td>13.353659</td>\n",
       "      <td>1.391082</td>\n",
       "      <td>1.0</td>\n",
       "      <td>0.0</td>\n",
       "    </tr>\n",
       "    <tr>\n",
       "      <th>17</th>\n",
       "      <td>0.734500</td>\n",
       "      <td>0.435729</td>\n",
       "      <td>13.621951</td>\n",
       "      <td>1.445643</td>\n",
       "      <td>1.0</td>\n",
       "      <td>0.0</td>\n",
       "    </tr>\n",
       "    <tr>\n",
       "      <th>18</th>\n",
       "      <td>0.662878</td>\n",
       "      <td>0.234506</td>\n",
       "      <td>13.337349</td>\n",
       "      <td>1.355001</td>\n",
       "      <td>1.0</td>\n",
       "      <td>0.0</td>\n",
       "    </tr>\n",
       "    <tr>\n",
       "      <th>19</th>\n",
       "      <td>0.721271</td>\n",
       "      <td>0.359905</td>\n",
       "      <td>13.518072</td>\n",
       "      <td>1.319289</td>\n",
       "      <td>1.0</td>\n",
       "      <td>0.0</td>\n",
       "    </tr>\n",
       "    <tr>\n",
       "      <th>20</th>\n",
       "      <td>0.658614</td>\n",
       "      <td>0.244494</td>\n",
       "      <td>13.530120</td>\n",
       "      <td>1.459513</td>\n",
       "      <td>1.0</td>\n",
       "      <td>0.0</td>\n",
       "    </tr>\n",
       "    <tr>\n",
       "      <th>21</th>\n",
       "      <td>0.599744</td>\n",
       "      <td>0.223854</td>\n",
       "      <td>13.317073</td>\n",
       "      <td>1.530578</td>\n",
       "      <td>1.0</td>\n",
       "      <td>0.0</td>\n",
       "    </tr>\n",
       "    <tr>\n",
       "      <th>22</th>\n",
       "      <td>0.695175</td>\n",
       "      <td>0.363639</td>\n",
       "      <td>13.409639</td>\n",
       "      <td>1.397176</td>\n",
       "      <td>1.0</td>\n",
       "      <td>0.0</td>\n",
       "    </tr>\n",
       "    <tr>\n",
       "      <th>23</th>\n",
       "      <td>0.639884</td>\n",
       "      <td>0.284037</td>\n",
       "      <td>13.402439</td>\n",
       "      <td>1.341270</td>\n",
       "      <td>1.0</td>\n",
       "      <td>0.0</td>\n",
       "    </tr>\n",
       "  </tbody>\n",
       "</table>\n",
       "</div>"
      ],
      "text/plain": [
       "      latency_ms  latency_ms_std_err       hops  hops_std_err  reached  \\\n",
       "hour                                                                     \n",
       "0       0.687663            0.301914  13.337349      1.425184      1.0   \n",
       "1       0.656327            0.353805  13.481928      1.408696      1.0   \n",
       "2       0.627472            0.243442  13.317073      1.421858      1.0   \n",
       "3       0.610780            0.176079  13.573171      1.388049      1.0   \n",
       "4       0.643444            0.386437  13.204819      1.552017      1.0   \n",
       "5       0.603229            0.214326  13.590361      1.465341      1.0   \n",
       "6       0.597197            0.222220  13.602410      1.481098      1.0   \n",
       "7       0.636486            0.302468  13.512195      1.484437      1.0   \n",
       "8       0.716859            0.313766  13.433333      1.536449      1.0   \n",
       "9       0.723413            0.585715  13.223404      1.525089      1.0   \n",
       "10      0.646039            0.207536  13.452632      1.412470      1.0   \n",
       "11      0.682676            0.282490  13.265957      1.594180      1.0   \n",
       "12      0.656287            0.266308  13.702128      1.293738      1.0   \n",
       "13      0.673579            0.259941  13.347368      1.471491      1.0   \n",
       "14      0.736963            0.352166  13.372340      1.632888      1.0   \n",
       "15      0.682172            0.262265  13.304348      1.465644      1.0   \n",
       "16      0.665301            0.270849  13.353659      1.391082      1.0   \n",
       "17      0.734500            0.435729  13.621951      1.445643      1.0   \n",
       "18      0.662878            0.234506  13.337349      1.355001      1.0   \n",
       "19      0.721271            0.359905  13.518072      1.319289      1.0   \n",
       "20      0.658614            0.244494  13.530120      1.459513      1.0   \n",
       "21      0.599744            0.223854  13.317073      1.530578      1.0   \n",
       "22      0.695175            0.363639  13.409639      1.397176      1.0   \n",
       "23      0.639884            0.284037  13.402439      1.341270      1.0   \n",
       "\n",
       "      reached_std_err  \n",
       "hour                   \n",
       "0                 0.0  \n",
       "1                 0.0  \n",
       "2                 0.0  \n",
       "3                 0.0  \n",
       "4                 0.0  \n",
       "5                 0.0  \n",
       "6                 0.0  \n",
       "7                 0.0  \n",
       "8                 0.0  \n",
       "9                 0.0  \n",
       "10                0.0  \n",
       "11                0.0  \n",
       "12                0.0  \n",
       "13                0.0  \n",
       "14                0.0  \n",
       "15                0.0  \n",
       "16                0.0  \n",
       "17                0.0  \n",
       "18                0.0  \n",
       "19                0.0  \n",
       "20                0.0  \n",
       "21                0.0  \n",
       "22                0.0  \n",
       "23                0.0  "
      ]
     },
     "execution_count": 12,
     "metadata": {},
     "output_type": "execute_result"
    }
   ],
   "source": [
    "df2"
   ]
  },
  {
   "cell_type": "markdown",
   "id": "32ea93e9-d3bf-4613-995b-c8d0a7382fa6",
   "metadata": {},
   "source": [
    "# Plotting Latency"
   ]
  },
  {
   "cell_type": "code",
   "execution_count": 33,
   "id": "6dd5697e-7eee-4ccf-b083-140221b33515",
   "metadata": {},
   "outputs": [
    {
     "data": {
      "text/plain": [
       "Text(0.5, 1.0, 'LATENCY VS HOUR OF THE DAY')"
      ]
     },
     "execution_count": 33,
     "metadata": {},
     "output_type": "execute_result"
    },
    {
     "data": {
      "image/png": "[encoded data removed]",
      "text/plain": [
       "<Figure size 720x360 with 1 Axes>"
      ]
     },
     "metadata": {
      "needs_background": "light"
     },
     "output_type": "display_data"
    }
   ],
   "source": [
    "fig, ax = plt.subplots(figsize=(10, 5))\n",
    "ax.set_xticks(df2.index)\n",
    "ax.bar(df2.index, df2.latency_ms, yerr=df2.latency_ms_std_err, align='center', alpha=0.5, ecolor='black', capsize=10)\n",
    "ax.yaxis.grid(True)\n",
    "\n",
    "ax.set_xlabel('Hour of the Day (GMT)')\n",
    "ax.set_ylabel('Latency (milliseconds)')\n",
    "ax.set_title('Latency vs Hour of the Day'.upper())\n"
   ]
  },
  {
   "cell_type": "markdown",
   "id": "c1e51e46-b01e-45b8-896b-5ac4a9ddaefe",
   "metadata": {},
   "source": [
    "# Plotting Hops"
   ]
  },
  {
   "cell_type": "code",
   "execution_count": 35,
   "id": "649c16ef-e280-4728-b53e-97abe67a720e",
   "metadata": {},
   "outputs": [
    {
     "data": {
      "text/plain": [
       "Text(0.5, 1.0, 'NUMBER OF HOPS VS HOUR OF THE DAY')"
      ]
     },
     "execution_count": 35,
     "metadata": {},
     "output_type": "execute_result"
    },
    {
     "data": {
      "image/png": "[encoded data removed]",
      "text/plain": [
       "<Figure size 720x360 with 1 Axes>"
      ]
     },
     "metadata": {
      "needs_background": "light"
     },
     "output_type": "display_data"
    }
   ],
   "source": [
    "fig, ax = plt.subplots(figsize=(10, 5))\n",
    "ax.set_xticks(df2.index)\n",
    "ax.bar(df2.index, df2.hops, yerr=df2.hops_std_err, align='center', alpha=0.5, ecolor='black', capsize=10)\n",
    "ax.yaxis.grid(True)\n",
    "\n",
    "ax.set_xlabel('Hour of the Day (GMT)')\n",
    "ax.set_ylabel('Number of Hops')\n",
    "ax.set_title('Number of Hops vs Hour of the Day'.upper())\n"
   ]
  },
  {
   "cell_type": "code",
   "execution_count": null,
   "id": "26ebf75c-2c5c-4339-b983-c33b7b8032ee",
   "metadata": {},
   "outputs": [],
   "source": []
  },
  {
   "cell_type": "code",
   "execution_count": null,
   "id": "2de192c3-c04d-40ff-9679-42c5b4dffdc6",
   "metadata": {},
   "outputs": [],
   "source": []
  },
  {
   "cell_type": "code",
   "execution_count": null,
   "id": "b9539c42-96f4-47cd-80a3-4ed552b060e9",
   "metadata": {},
   "outputs": [],
   "source": []
  },
  {
   "cell_type": "code",
   "execution_count": null,
   "id": "abd6d5ba-522d-425a-800c-0ab68fa81202",
   "metadata": {},
   "outputs": [],
   "source": []
  },
  {
   "cell_type": "code",
   "execution_count": null,
   "id": "115013ca-ea90-4881-96ab-18a9ff0b5340",
   "metadata": {},
   "outputs": [],
   "source": []
  }
 ],
 "metadata": {
  "kernelspec": {
   "display_name": "Python 3 (ipykernel)",
   "language": "python",
   "name": "python3"
  },
  "language_info": {
   "codemirror_mode": {
    "name": "ipython",
    "version": 3
   },
   "file_extension": ".py",
   "mimetype": "text/x-python",
   "name": "python",
   "nbconvert_exporter": "python",
   "pygments_lexer": "ipython3",
   "version": "3.8.10"
  }
 },
 "nbformat": 4,
 "nbformat_minor": 5
}
