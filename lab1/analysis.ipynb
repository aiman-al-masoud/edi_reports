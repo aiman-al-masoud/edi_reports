{
 "cells": [
  {
   "cell_type": "code",
   "execution_count": 1,
   "id": "c55aacd7-849d-4d70-a20e-ad0f2f5dbf1a",
   "metadata": {},
   "outputs": [],
   "source": [
    "import re\n",
    "from matplotlib import pyplot as plt\n",
    "import pandas as pd"
   ]
  },
  {
   "cell_type": "code",
   "execution_count": 2,
   "id": "97f64b00-7c25-48db-a9fb-8b3277af6be3",
   "metadata": {},
   "outputs": [],
   "source": [
    "with open(\"traceroute1649317892.txt\") as f:\n",
    "    buf = f.read()"
   ]
  },
  {
   "cell_type": "code",
   "execution_count": 3,
   "id": "a3722544-0731-4af0-9e01-42682c2f00f5",
   "metadata": {},
   "outputs": [],
   "source": [
    "parts = [p for p in  buf.split(\"START\") if p not in [\"\"]]"
   ]
  },
  {
   "cell_type": "code",
   "execution_count": 4,
   "id": "f9de918f-aa8b-4b75-8429-1c6a7edd35d6",
   "metadata": {},
   "outputs": [],
   "source": [
    "def dump_to_tuple(dump):\n",
    "    \n",
    "    \"\"\"\n",
    "    Converts a raw traceroute data-dump into a summarized tuple.\n",
    "    \"\"\"\n",
    "    \n",
    "    # timestamp\n",
    "    lines = [l for l in dump.split(\"\\n\") if l not in [ \"\" ] ]\n",
    "    timestamp = int( lines[0])\n",
    "    \n",
    "    # first line (beside the timestamp)\n",
    "    l1 = lines[1]\n",
    "    # last line \n",
    "    last = lines[-1]\n",
    "    \n",
    "    try:\n",
    "        ip1 = re.match(\".*\\((.*)\\).*\", l1).group(1)\n",
    "        ip2 = re.match(\".*\\((.*)\\).*\", last).group(1)\n",
    "    except:\n",
    "        pass\n",
    "    \n",
    "    # check if target was reached \n",
    "    reached = ip1==ip2!=None\n",
    "    \n",
    "    # number of hops\n",
    "    hops = int(last [:4] )\n",
    "    \n",
    "    # target latency (ms)\n",
    "    try:    \n",
    "        times = re.findall(\"\\d+.\\d+ ms\", last)\n",
    "        times = [float(t.replace(\"ms\", \"\")) for t in times ]\n",
    "        latency = sum(times)/len(times)\n",
    "    except:\n",
    "        latency = None\n",
    "    \n",
    "    return (timestamp, hops, reached, latency)"
   ]
  },
  {
   "cell_type": "markdown",
   "id": "9d61eab3-a808-4ba8-b95c-95d531064ad5",
   "metadata": {},
   "source": [
    "# Convert dumps to dataframe"
   ]
  },
  {
   "cell_type": "code",
   "execution_count": 5,
   "id": "afa9be79-ed80-4f7c-b489-9a4ad53630b7",
   "metadata": {},
   "outputs": [],
   "source": [
    "tuples = [dump_to_tuple(p) for p in parts]"
   ]
  },
  {
   "cell_type": "code",
   "execution_count": 6,
   "id": "585ec9f4-92a4-4e90-ab98-f23718bf8cb6",
   "metadata": {},
   "outputs": [],
   "source": [
    "df = pd.DataFrame(tuples, columns=[\"timestamp\", \"hops\", \"reached\", \"latency_ms\"])"
   ]
  },
  {
   "cell_type": "markdown",
   "id": "d3823ace-d227-43ea-83fe-75e73b3e587f",
   "metadata": {},
   "source": [
    "## Re-format timestamp"
   ]
  },
  {
   "cell_type": "code",
   "execution_count": 7,
   "id": "dfd94c3d-6c62-4716-bd51-86c25b91fa43",
   "metadata": {},
   "outputs": [],
   "source": [
    "df[\"timestamp\"] = pd.to_datetime(df.timestamp, unit=\"s\")"
   ]
  },
  {
   "cell_type": "code",
   "execution_count": 8,
   "id": "ab4a60cc-8a56-4d62-a6eb-441857b144fa",
   "metadata": {},
   "outputs": [],
   "source": [
    "df = df.set_index(\"timestamp\")"
   ]
  },
  {
   "cell_type": "code",
   "execution_count": null,
   "id": "6ead9868-0570-4b77-bff4-46bcea515179",
   "metadata": {},
   "outputs": [],
   "source": []
  },
  {
   "cell_type": "code",
   "execution_count": 9,
   "id": "2cdf2554-5a5c-4a38-89ec-0461f351ef5c",
   "metadata": {},
   "outputs": [],
   "source": [
    "df.index  = df.index.tz_localize(tz='America/Los_Angeles')"
   ]
  },
  {
   "cell_type": "code",
   "execution_count": null,
   "id": "8f84b1e0-0327-4adb-84be-13905c53b509",
   "metadata": {},
   "outputs": [],
   "source": []
  },
  {
   "cell_type": "code",
   "execution_count": null,
   "id": "efdb0278-07ee-40f7-a1f4-fab164391d4c",
   "metadata": {},
   "outputs": [],
   "source": []
  },
  {
   "cell_type": "markdown",
   "id": "1df90192-9ca5-45bb-a1d5-a9659d359395",
   "metadata": {},
   "source": [
    "## Compute mean and standard error of metrics over the hour (0-23)\n",
    "\n"
   ]
  },
  {
   "cell_type": "code",
   "execution_count": 10,
   "id": "8d790f63-ebfa-4619-8bae-53cb9de501ff",
   "metadata": {},
   "outputs": [],
   "source": [
    "df[\"hour\"] = df.index.hour"
   ]
  },
  {
   "cell_type": "code",
   "execution_count": 11,
   "id": "311bf3ee-8571-4815-974f-714527dd5944",
   "metadata": {},
   "outputs": [],
   "source": [
    "df2 = df.groupby(\"hour\").mean()\n",
    "std_errs = df.groupby(\"hour\").std().rename( columns= {\"hops\":\"hops_std_err\", \"reached\":\"reached_std_err\", \"latency_ms\":\"latency_ms_std_err\"} )\n",
    "df2 =  df2.merge(std_errs, on=\"hour\")"
   ]
  },
  {
   "cell_type": "markdown",
   "id": "cabe1d90-660c-4c83-8c22-d29233f499f4",
   "metadata": {},
   "source": [
    "### Rearrange columns:"
   ]
  },
  {
   "cell_type": "code",
   "execution_count": 12,
   "id": "c9174a79-87e7-4e03-aa1b-a71a8bb92bf0",
   "metadata": {},
   "outputs": [],
   "source": [
    "df2 = df2[[ \"latency_ms\", \"latency_ms_std_err\", \"hops\", \"hops_std_err\", \"reached\", \"reached_std_err\"  ]]"
   ]
  },
  {
   "cell_type": "markdown",
   "id": "152dd117-589c-4d40-ad14-2c6bb8e8f77f",
   "metadata": {},
   "source": [
    "## Convert GMT to PST \n",
    "\n",
    "(Assuming google.com is most used on the US's West Coast)."
   ]
  },
  {
   "cell_type": "code",
   "execution_count": 13,
   "id": "041d4ff2-6234-4adc-978c-42a52c1540a6",
   "metadata": {},
   "outputs": [],
   "source": [
    "df2.index = (df2.index-8)%24"
   ]
  },
  {
   "cell_type": "markdown",
   "id": "32ea93e9-d3bf-4613-995b-c8d0a7382fa6",
   "metadata": {},
   "source": [
    "# Plotting Latency"
   ]
  },
  {
   "cell_type": "code",
   "execution_count": 14,
   "id": "6dd5697e-7eee-4ccf-b083-140221b33515",
   "metadata": {},
   "outputs": [
    {
     "data": {
      "text/plain": [
       "Text(0.5, 1.0, 'LATENCY VS HOUR OF THE DAY')"
      ]
     },
     "execution_count": 14,
     "metadata": {},
     "output_type": "execute_result"
    },
    {
     "data": {
      "image/png": "[encoded data removed]",
      "text/plain": [
       "<Figure size 720x360 with 1 Axes>"
      ]
     },
     "metadata": {
      "needs_background": "light"
     },
     "output_type": "display_data"
    }
   ],
   "source": [
    "fig, ax = plt.subplots(figsize=(10, 5))\n",
    "ax.set_xticks(df2.index)\n",
    "ax.bar(df2.index, df2.latency_ms, yerr=df2.latency_ms_std_err, align='center', alpha=0.5, ecolor='black', capsize=10)\n",
    "ax.yaxis.grid(True)\n",
    "\n",
    "ax.set_xlabel('Hour of the Day (PST)')\n",
    "ax.set_ylabel('Latency (milliseconds)')\n",
    "ax.set_title('Latency vs Hour of the Day'.upper())\n"
   ]
  },
  {
   "cell_type": "markdown",
   "id": "c1e51e46-b01e-45b8-896b-5ac4a9ddaefe",
   "metadata": {},
   "source": [
    "# Plotting Hops"
   ]
  },
  {
   "cell_type": "code",
   "execution_count": 15,
   "id": "649c16ef-e280-4728-b53e-97abe67a720e",
   "metadata": {},
   "outputs": [
    {
     "data": {
      "text/plain": [
       "Text(0.5, 1.0, 'NUMBER OF HOPS VS HOUR OF THE DAY')"
      ]
     },
     "execution_count": 15,
     "metadata": {},
     "output_type": "execute_result"
    },
    {
     "data": {
      "image/png": "[encoded data removed]",
      "text/plain": [
       "<Figure size 720x360 with 1 Axes>"
      ]
     },
     "metadata": {
      "needs_background": "light"
     },
     "output_type": "display_data"
    }
   ],
   "source": [
    "fig, ax = plt.subplots(figsize=(10, 5))\n",
    "ax.set_xticks(df2.index)\n",
    "ax.bar(df2.index, df2.hops, yerr=df2.hops_std_err, align='center', alpha=0.5, ecolor='black', capsize=10)\n",
    "ax.yaxis.grid(True)\n",
    "\n",
    "ax.set_xlabel('Hour of the Day (PST)')\n",
    "ax.set_ylabel('Number of Hops')\n",
    "ax.set_title('Number of Hops vs Hour of the Day'.upper())\n"
   ]
  },
  {
   "cell_type": "code",
   "execution_count": null,
   "id": "26ebf75c-2c5c-4339-b983-c33b7b8032ee",
   "metadata": {},
   "outputs": [],
   "source": []
  },
  {
   "cell_type": "code",
   "execution_count": null,
   "id": "2de192c3-c04d-40ff-9679-42c5b4dffdc6",
   "metadata": {},
   "outputs": [],
   "source": []
  },
  {
   "cell_type": "code",
   "execution_count": null,
   "id": "b9539c42-96f4-47cd-80a3-4ed552b060e9",
   "metadata": {},
   "outputs": [],
   "source": []
  },
  {
   "cell_type": "code",
   "execution_count": null,
   "id": "abd6d5ba-522d-425a-800c-0ab68fa81202",
   "metadata": {},
   "outputs": [],
   "source": []
  },
  {
   "cell_type": "code",
   "execution_count": null,
   "id": "115013ca-ea90-4881-96ab-18a9ff0b5340",
   "metadata": {},
   "outputs": [],
   "source": []
  }
 ],
 "metadata": {
  "kernelspec": {
   "display_name": "Python 3 (ipykernel)",
   "language": "python",
   "name": "python3"
  },
  "language_info": {
   "codemirror_mode": {
    "name": "ipython",
    "version": 3
   },
   "file_extension": ".py",
   "mimetype": "text/x-python",
   "name": "python",
   "nbconvert_exporter": "python",
   "pygments_lexer": "ipython3",
   "version": "3.8.10"
  }
 },
 "nbformat": 4,
 "nbformat_minor": 5
}
