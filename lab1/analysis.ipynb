{
 "cells": [
  {
   "cell_type": "code",
   "execution_count": 1,
   "id": "c55aacd7-849d-4d70-a20e-ad0f2f5dbf1a",
   "metadata": {},
   "outputs": [],
   "source": [
    "import re\n",
    "from matplotlib import pyplot as plt\n",
    "import pandas as pd\n",
    "from scipy.stats import zscore\n",
    "import numpy as np"
   ]
  },
  {
   "cell_type": "code",
   "execution_count": 2,
   "id": "97f64b00-7c25-48db-a9fb-8b3277af6be3",
   "metadata": {},
   "outputs": [],
   "source": [
    "with open(\"new_dumps.txt\") as f:\n",
    "    buf = f.read()"
   ]
  },
  {
   "cell_type": "code",
   "execution_count": 3,
   "id": "a3722544-0731-4af0-9e01-42682c2f00f5",
   "metadata": {},
   "outputs": [],
   "source": [
    "parts = [p for p in  buf.split(\"START\") if p not in [\"\"]]"
   ]
  },
  {
   "cell_type": "code",
   "execution_count": 4,
   "id": "f9de918f-aa8b-4b75-8429-1c6a7edd35d6",
   "metadata": {},
   "outputs": [],
   "source": [
    "def dump_to_tuple(dump):\n",
    "    \n",
    "    \"\"\"\n",
    "    Converts a raw traceroute data-dump into a summarized tuple.\n",
    "    \"\"\"\n",
    "    \n",
    "    # timestamp\n",
    "    lines = [l for l in dump.split(\"\\n\") if l not in [ \"\" ] ]\n",
    "    timestamp = int( lines[0])\n",
    "    \n",
    "    # first line (beside the timestamp)\n",
    "    l1 = lines[1]\n",
    "    # last line \n",
    "    last = lines[-1]\n",
    "    \n",
    "    try:\n",
    "        ip1 = re.match(\".*\\((.*)\\).*\", l1).group(1)\n",
    "        ip2 = re.match(\".*\\((.*)\\).*\", last).group(1)\n",
    "    except:\n",
    "        pass\n",
    "    \n",
    "    # check if target was reached \n",
    "    reached = ip1==ip2!=None\n",
    "    \n",
    "    # number of hops\n",
    "    hops = int(last [:4] )\n",
    "    \n",
    "    # target latency (ms)\n",
    "    try:    \n",
    "        times = re.findall(\"\\d+.\\d+ ms\", last)\n",
    "        times = [float(t.replace(\"ms\", \"\")) for t in times ]\n",
    "        latency = sum(times)/len(times)\n",
    "    except:\n",
    "        latency = None\n",
    "    \n",
    "    return (timestamp, hops, reached, latency)"
   ]
  },
  {
   "cell_type": "markdown",
   "id": "9d61eab3-a808-4ba8-b95c-95d531064ad5",
   "metadata": {},
   "source": [
    "# Convert dumps to dataframe"
   ]
  },
  {
   "cell_type": "code",
   "execution_count": 5,
   "id": "afa9be79-ed80-4f7c-b489-9a4ad53630b7",
   "metadata": {},
   "outputs": [],
   "source": [
    "tuples = [dump_to_tuple(p) for p in parts]"
   ]
  },
  {
   "cell_type": "code",
   "execution_count": 6,
   "id": "585ec9f4-92a4-4e90-ab98-f23718bf8cb6",
   "metadata": {},
   "outputs": [],
   "source": [
    "df = pd.DataFrame(tuples, columns=[\"timestamp\", \"hops\", \"reached\", \"latency_ms\"])"
   ]
  },
  {
   "cell_type": "markdown",
   "id": "d3823ace-d227-43ea-83fe-75e73b3e587f",
   "metadata": {},
   "source": [
    "## Re-format timestamp"
   ]
  },
  {
   "cell_type": "code",
   "execution_count": 7,
   "id": "dfd94c3d-6c62-4716-bd51-86c25b91fa43",
   "metadata": {},
   "outputs": [],
   "source": [
    "df[\"timestamp\"] = pd.to_datetime(df.timestamp, unit=\"s\")"
   ]
  },
  {
   "cell_type": "code",
   "execution_count": 8,
   "id": "ab4a60cc-8a56-4d62-a6eb-441857b144fa",
   "metadata": {},
   "outputs": [],
   "source": [
    "df = df.set_index(\"timestamp\")"
   ]
  },
  {
   "cell_type": "code",
   "execution_count": null,
   "id": "8d790f63-ebfa-4619-8bae-53cb9de501ff",
   "metadata": {},
   "outputs": [],
   "source": []
  },
  {
   "cell_type": "markdown",
   "id": "98cad440-e033-4f8a-ae95-94102141c2c1",
   "metadata": {},
   "source": [
    "#### Number of readings:"
   ]
  },
  {
   "cell_type": "code",
   "execution_count": 9,
   "id": "57f4d8f3-df34-4167-8415-9c5f911537fc",
   "metadata": {},
   "outputs": [
    {
     "data": {
      "text/plain": [
       "2204"
      ]
     },
     "execution_count": 9,
     "metadata": {},
     "output_type": "execute_result"
    }
   ],
   "source": [
    "len(df) "
   ]
  },
  {
   "cell_type": "code",
   "execution_count": null,
   "id": "429f65e9-e6b9-44b7-9080-87e6f3193c55",
   "metadata": {},
   "outputs": [],
   "source": []
  },
  {
   "cell_type": "code",
   "execution_count": null,
   "id": "69fa8b24-3f26-4b98-b261-31ef0d734fcc",
   "metadata": {},
   "outputs": [],
   "source": []
  },
  {
   "cell_type": "code",
   "execution_count": null,
   "id": "a7c1990e-402e-44be-8f1f-060a5d6afc49",
   "metadata": {},
   "outputs": [],
   "source": []
  },
  {
   "cell_type": "markdown",
   "id": "f6ecd17f-c5c3-4115-8fd0-9cc9e852d77d",
   "metadata": {},
   "source": [
    "#### Filter out outliers:\n",
    "\n",
    "(Removing observations with a very high z-score; ie: a high number of standard deviations from the mean)."
   ]
  },
  {
   "cell_type": "code",
   "execution_count": 10,
   "id": "ceedde93-628d-497f-aa40-c25568829d95",
   "metadata": {},
   "outputs": [
    {
     "data": {
      "text/plain": [
       "count    2204.000000\n",
       "mean        0.931891\n",
       "std         1.188018\n",
       "min         0.249000\n",
       "25%         0.719375\n",
       "50%         0.927000\n",
       "75%         1.071250\n",
       "max        47.569000\n",
       "Name: latency_ms, dtype: float64"
      ]
     },
     "execution_count": 10,
     "metadata": {},
     "output_type": "execute_result"
    }
   ],
   "source": [
    "df.latency_ms.describe()"
   ]
  },
  {
   "cell_type": "code",
   "execution_count": 11,
   "id": "ca399955-8ec2-4039-8e0e-dc3850db0cb7",
   "metadata": {},
   "outputs": [],
   "source": [
    "MAX_ZSCORE = 3"
   ]
  },
  {
   "cell_type": "code",
   "execution_count": 12,
   "id": "e56821db-fc02-40b3-94aa-449b57894674",
   "metadata": {},
   "outputs": [],
   "source": [
    "df = df[np.abs( zscore(df.latency_ms)) < MAX_ZSCORE]"
   ]
  },
  {
   "cell_type": "markdown",
   "id": "e161a1b8-1e09-4361-a7ae-b3551f6fe410",
   "metadata": {},
   "source": [
    "## Convert GMT to CEST\n",
    "\n",
    "(Assuming google.it is most accessed from Italy)."
   ]
  },
  {
   "cell_type": "code",
   "execution_count": 13,
   "id": "da986ee5-acbf-40df-964f-8109cefd48c4",
   "metadata": {},
   "outputs": [],
   "source": [
    "df.index = df.index  + pd.DateOffset(hours=2)"
   ]
  },
  {
   "cell_type": "code",
   "execution_count": null,
   "id": "c4e3f222-d1dd-42b2-8923-0de69d638903",
   "metadata": {},
   "outputs": [],
   "source": []
  },
  {
   "cell_type": "code",
   "execution_count": 14,
   "id": "b8afd486-972d-48d9-b3b6-5fc4920e63ec",
   "metadata": {},
   "outputs": [
    {
     "data": {
      "text/plain": [
       "<AxesSubplot:ylabel='Density'>"
      ]
     },
     "execution_count": 14,
     "metadata": {},
     "output_type": "execute_result"
    },
    {
     "data": {
      "image/png": "[encoded data removed]",
      "text/plain": [
       "<Figure size 432x288 with 1 Axes>"
      ]
     },
     "metadata": {
      "needs_background": "light"
     },
     "output_type": "display_data"
    }
   ],
   "source": [
    "df.latency_ms.plot.kde()"
   ]
  },
  {
   "cell_type": "code",
   "execution_count": 15,
   "id": "766f41b3-39e3-41fa-a9b8-13a01098886c",
   "metadata": {},
   "outputs": [
    {
     "data": {
      "text/plain": [
       "2200"
      ]
     },
     "execution_count": 15,
     "metadata": {},
     "output_type": "execute_result"
    }
   ],
   "source": [
    "len(df)"
   ]
  },
  {
   "cell_type": "code",
   "execution_count": 16,
   "id": "4d9d022e-8e9c-4441-b10b-b1f8db63420e",
   "metadata": {},
   "outputs": [
    {
     "data": {
      "text/plain": [
       "count    2200.000000\n",
       "mean        0.889477\n",
       "std         0.299264\n",
       "min         0.249000\n",
       "0%          0.249000\n",
       "10%         0.413900\n",
       "20%         0.628400\n",
       "30%         0.779000\n",
       "40%         0.861000\n",
       "50%         0.926000\n",
       "60%         0.978000\n",
       "70%         1.037000\n",
       "80%         1.107200\n",
       "90%         1.234067\n",
       "max         2.790000\n",
       "Name: latency_ms, dtype: float64"
      ]
     },
     "execution_count": 16,
     "metadata": {},
     "output_type": "execute_result"
    }
   ],
   "source": [
    "df.latency_ms.describe(percentiles=[i/10 for i in range(10)])"
   ]
  },
  {
   "cell_type": "code",
   "execution_count": null,
   "id": "01e20adf-c0d3-4ac2-a406-3d003b77544c",
   "metadata": {},
   "outputs": [],
   "source": []
  },
  {
   "cell_type": "code",
   "execution_count": null,
   "id": "152936ec-a17c-4751-aeb4-91c16406ab23",
   "metadata": {},
   "outputs": [],
   "source": []
  },
  {
   "cell_type": "code",
   "execution_count": null,
   "id": "5e3c7e53-357f-4c94-8ebb-9cfcf00880d9",
   "metadata": {},
   "outputs": [],
   "source": []
  },
  {
   "cell_type": "markdown",
   "id": "7907b3dd-d51e-4289-807c-2c7519044e14",
   "metadata": {},
   "source": [
    "#### Compute mean and standard error of metrics over the hour (0-23)"
   ]
  },
  {
   "cell_type": "code",
   "execution_count": 17,
   "id": "51b72ddd-526a-488f-8e4f-4f524bfed226",
   "metadata": {},
   "outputs": [],
   "source": [
    "df[\"hour\"] = df.index.hour"
   ]
  },
  {
   "cell_type": "code",
   "execution_count": null,
   "id": "de4060af-640a-44ec-9143-53da6f743b7a",
   "metadata": {},
   "outputs": [],
   "source": []
  },
  {
   "cell_type": "code",
   "execution_count": null,
   "id": "e5239479-7d09-4359-be4f-5b9a305a1e83",
   "metadata": {},
   "outputs": [],
   "source": []
  },
  {
   "cell_type": "code",
   "execution_count": 18,
   "id": "9e151696-c231-4144-9171-c25a1eb27c3e",
   "metadata": {},
   "outputs": [
    {
     "data": {
      "text/html": [
       "<div>\n",
       "<style scoped>\n",
       "    .dataframe tbody tr th:only-of-type {\n",
       "        vertical-align: middle;\n",
       "    }\n",
       "\n",
       "    .dataframe tbody tr th {\n",
       "        vertical-align: top;\n",
       "    }\n",
       "\n",
       "    .dataframe thead th {\n",
       "        text-align: right;\n",
       "    }\n",
       "</style>\n",
       "<table border=\"1\" class=\"dataframe\">\n",
       "  <thead>\n",
       "    <tr style=\"text-align: right;\">\n",
       "      <th></th>\n",
       "      <th>hops</th>\n",
       "      <th>reached</th>\n",
       "      <th>latency_ms</th>\n",
       "      <th>hour</th>\n",
       "    </tr>\n",
       "    <tr>\n",
       "      <th>timestamp</th>\n",
       "      <th></th>\n",
       "      <th></th>\n",
       "      <th></th>\n",
       "      <th></th>\n",
       "    </tr>\n",
       "  </thead>\n",
       "  <tbody>\n",
       "    <tr>\n",
       "      <th>2022-04-17 16:09:56</th>\n",
       "      <td>15</td>\n",
       "      <td>True</td>\n",
       "      <td>0.919000</td>\n",
       "      <td>16</td>\n",
       "    </tr>\n",
       "    <tr>\n",
       "      <th>2022-04-17 16:15:01</th>\n",
       "      <td>15</td>\n",
       "      <td>True</td>\n",
       "      <td>0.484667</td>\n",
       "      <td>16</td>\n",
       "    </tr>\n",
       "    <tr>\n",
       "      <th>2022-04-17 16:20:06</th>\n",
       "      <td>13</td>\n",
       "      <td>True</td>\n",
       "      <td>0.540333</td>\n",
       "      <td>16</td>\n",
       "    </tr>\n",
       "    <tr>\n",
       "      <th>2022-04-17 16:25:11</th>\n",
       "      <td>15</td>\n",
       "      <td>True</td>\n",
       "      <td>0.696000</td>\n",
       "      <td>16</td>\n",
       "    </tr>\n",
       "    <tr>\n",
       "      <th>2022-04-17 16:30:16</th>\n",
       "      <td>13</td>\n",
       "      <td>True</td>\n",
       "      <td>0.947000</td>\n",
       "      <td>16</td>\n",
       "    </tr>\n",
       "    <tr>\n",
       "      <th>...</th>\n",
       "      <td>...</td>\n",
       "      <td>...</td>\n",
       "      <td>...</td>\n",
       "      <td>...</td>\n",
       "    </tr>\n",
       "    <tr>\n",
       "      <th>2022-04-25 10:20:53</th>\n",
       "      <td>13</td>\n",
       "      <td>True</td>\n",
       "      <td>1.024500</td>\n",
       "      <td>10</td>\n",
       "    </tr>\n",
       "    <tr>\n",
       "      <th>2022-04-25 10:25:58</th>\n",
       "      <td>12</td>\n",
       "      <td>True</td>\n",
       "      <td>0.981000</td>\n",
       "      <td>10</td>\n",
       "    </tr>\n",
       "    <tr>\n",
       "      <th>2022-04-25 10:31:03</th>\n",
       "      <td>12</td>\n",
       "      <td>True</td>\n",
       "      <td>0.834000</td>\n",
       "      <td>10</td>\n",
       "    </tr>\n",
       "    <tr>\n",
       "      <th>2022-04-25 10:36:08</th>\n",
       "      <td>12</td>\n",
       "      <td>True</td>\n",
       "      <td>0.955000</td>\n",
       "      <td>10</td>\n",
       "    </tr>\n",
       "    <tr>\n",
       "      <th>2022-04-25 10:41:13</th>\n",
       "      <td>12</td>\n",
       "      <td>True</td>\n",
       "      <td>0.759000</td>\n",
       "      <td>10</td>\n",
       "    </tr>\n",
       "  </tbody>\n",
       "</table>\n",
       "<p>2200 rows × 4 columns</p>\n",
       "</div>"
      ],
      "text/plain": [
       "                     hops  reached  latency_ms  hour\n",
       "timestamp                                           \n",
       "2022-04-17 16:09:56    15     True    0.919000    16\n",
       "2022-04-17 16:15:01    15     True    0.484667    16\n",
       "2022-04-17 16:20:06    13     True    0.540333    16\n",
       "2022-04-17 16:25:11    15     True    0.696000    16\n",
       "2022-04-17 16:30:16    13     True    0.947000    16\n",
       "...                   ...      ...         ...   ...\n",
       "2022-04-25 10:20:53    13     True    1.024500    10\n",
       "2022-04-25 10:25:58    12     True    0.981000    10\n",
       "2022-04-25 10:31:03    12     True    0.834000    10\n",
       "2022-04-25 10:36:08    12     True    0.955000    10\n",
       "2022-04-25 10:41:13    12     True    0.759000    10\n",
       "\n",
       "[2200 rows x 4 columns]"
      ]
     },
     "execution_count": 18,
     "metadata": {},
     "output_type": "execute_result"
    }
   ],
   "source": [
    "df"
   ]
  },
  {
   "cell_type": "code",
   "execution_count": 19,
   "id": "f4001e3d-8c97-4b75-ad75-455a0bdc6ceb",
   "metadata": {},
   "outputs": [],
   "source": [
    "def period(h):\n",
    "    if 4 <= h < 11:\n",
    "        return \"MORNING\"\n",
    "    if 11 <= h < 18:\n",
    "        return \"DAY\"\n",
    "    if 18 <=h < 21:\n",
    "        return \"EVENING\"\n",
    "    if  h >= 21  or h < 4:\n",
    "        return \"NIGHT\""
   ]
  },
  {
   "cell_type": "code",
   "execution_count": 20,
   "id": "3fff43ff-6f9d-4205-8796-6a420062ee96",
   "metadata": {},
   "outputs": [],
   "source": [
    "df[\"period\"] = df.hour.apply( period )"
   ]
  },
  {
   "cell_type": "code",
   "execution_count": 21,
   "id": "ace44535-bdef-49b7-9697-2e958094a509",
   "metadata": {},
   "outputs": [
    {
     "data": {
      "text/plain": [
       "NIGHT      661\n",
       "MORNING    658\n",
       "DAY        597\n",
       "EVENING    284\n",
       "Name: period, dtype: int64"
      ]
     },
     "execution_count": 21,
     "metadata": {},
     "output_type": "execute_result"
    }
   ],
   "source": [
    "df.period.value_counts()"
   ]
  },
  {
   "cell_type": "code",
   "execution_count": 22,
   "id": "3551e5ec-2f03-4c43-b457-b98922ad0947",
   "metadata": {},
   "outputs": [
    {
     "data": {
      "text/plain": [
       "period\n",
       "DAY        0.870385\n",
       "EVENING    0.852614\n",
       "MORNING    0.913451\n",
       "NIGHT      0.898694\n",
       "Name: latency_ms, dtype: float64"
      ]
     },
     "execution_count": 22,
     "metadata": {},
     "output_type": "execute_result"
    }
   ],
   "source": [
    "df.groupby(\"period\").latency_ms.mean()"
   ]
  },
  {
   "cell_type": "code",
   "execution_count": 23,
   "id": "4f3fcbd3-5a9a-4504-95ab-f2ffcc5ca3d3",
   "metadata": {},
   "outputs": [
    {
     "data": {
      "text/plain": [
       "period\n",
       "DAY        0.088604\n",
       "EVENING    0.083011\n",
       "MORNING    0.077587\n",
       "NIGHT      0.103982\n",
       "Name: latency_ms, dtype: float64"
      ]
     },
     "execution_count": 23,
     "metadata": {},
     "output_type": "execute_result"
    }
   ],
   "source": [
    "df.groupby(\"period\").latency_ms.var()"
   ]
  },
  {
   "cell_type": "code",
   "execution_count": null,
   "id": "598ebbbe-faee-4732-ab45-c987968fcde3",
   "metadata": {},
   "outputs": [],
   "source": []
  },
  {
   "cell_type": "code",
   "execution_count": null,
   "id": "6731459a-c8eb-4d23-a899-b7e5aa72aa64",
   "metadata": {},
   "outputs": [],
   "source": []
  },
  {
   "cell_type": "code",
   "execution_count": null,
   "id": "d28ba265-0d85-4e86-8a2e-b53223f61e72",
   "metadata": {},
   "outputs": [],
   "source": []
  },
  {
   "cell_type": "code",
   "execution_count": null,
   "id": "f4f64f7e-ce16-4483-bb45-c3de060048a4",
   "metadata": {},
   "outputs": [],
   "source": []
  },
  {
   "cell_type": "code",
   "execution_count": 24,
   "id": "311bf3ee-8571-4815-974f-714527dd5944",
   "metadata": {},
   "outputs": [],
   "source": [
    "df2 = df.groupby(\"hour\").mean()\n",
    "std_errs = df.groupby(\"hour\").std().rename( columns= {\"hops\":\"hops_std_err\", \"reached\":\"reached_std_err\", \"latency_ms\":\"latency_ms_std_err\"} )\n",
    "df =  df2.merge(std_errs, on=\"hour\")"
   ]
  },
  {
   "cell_type": "markdown",
   "id": "cabe1d90-660c-4c83-8c22-d29233f499f4",
   "metadata": {},
   "source": [
    "### Rearrange columns:"
   ]
  },
  {
   "cell_type": "code",
   "execution_count": 25,
   "id": "c9174a79-87e7-4e03-aa1b-a71a8bb92bf0",
   "metadata": {},
   "outputs": [],
   "source": [
    "df = df[[ \"latency_ms\", \"latency_ms_std_err\", \"hops\", \"hops_std_err\", \"reached\", \"reached_std_err\"  ]]"
   ]
  },
  {
   "cell_type": "code",
   "execution_count": null,
   "id": "041d4ff2-6234-4adc-978c-42a52c1540a6",
   "metadata": {},
   "outputs": [],
   "source": []
  },
  {
   "cell_type": "code",
   "execution_count": null,
   "id": "a10e2aa3-c6a3-49dd-9c94-3ed8541b4673",
   "metadata": {},
   "outputs": [],
   "source": []
  },
  {
   "cell_type": "markdown",
   "id": "32ea93e9-d3bf-4613-995b-c8d0a7382fa6",
   "metadata": {},
   "source": [
    "# Plotting Latency"
   ]
  },
  {
   "cell_type": "code",
   "execution_count": 26,
   "id": "6dd5697e-7eee-4ccf-b083-140221b33515",
   "metadata": {},
   "outputs": [
    {
     "data": {
      "text/plain": [
       "Text(0.5, 1.0, 'LATENCY VS HOUR OF THE DAY/ GOOGLE.IT')"
      ]
     },
     "execution_count": 26,
     "metadata": {},
     "output_type": "execute_result"
    },
    {
     "data": {
      "image/png": "[encoded data removed]",
      "text/plain": [
       "<Figure size 720x360 with 1 Axes>"
      ]
     },
     "metadata": {
      "needs_background": "light"
     },
     "output_type": "display_data"
    }
   ],
   "source": [
    "fig, ax = plt.subplots(figsize=(10, 5))\n",
    "ax.set_xticks(df.index)\n",
    "ax.bar(df.index, df.latency_ms, yerr=df.latency_ms_std_err, align='center', alpha=0.5, ecolor='black', capsize=10)\n",
    "ax.yaxis.grid(True)\n",
    "\n",
    "ax.set_xlabel('Hour of the Day (CEST)')\n",
    "ax.set_ylabel('Latency (milliseconds)')\n",
    "ax.set_title('Latency vs Hour of the Day/ google.it'.upper())\n"
   ]
  },
  {
   "cell_type": "markdown",
   "id": "c1e51e46-b01e-45b8-896b-5ac4a9ddaefe",
   "metadata": {},
   "source": [
    "# Plotting Hops"
   ]
  },
  {
   "cell_type": "code",
   "execution_count": 27,
   "id": "649c16ef-e280-4728-b53e-97abe67a720e",
   "metadata": {},
   "outputs": [
    {
     "data": {
      "text/plain": [
       "Text(0.5, 1.0, 'NUMBER OF HOPS VS HOUR OF THE DAY/ GOOGLE.IT')"
      ]
     },
     "execution_count": 27,
     "metadata": {},
     "output_type": "execute_result"
    },
    {
     "data": {
      "image/png": "[encoded data removed]",
      "text/plain": [
       "<Figure size 720x360 with 1 Axes>"
      ]
     },
     "metadata": {
      "needs_background": "light"
     },
     "output_type": "display_data"
    }
   ],
   "source": [
    "fig, ax = plt.subplots(figsize=(10, 5))\n",
    "ax.set_xticks(df.index)\n",
    "ax.bar(df.index, df.hops, yerr=df.hops_std_err, align='center', alpha=0.5, ecolor='black', capsize=10)\n",
    "ax.yaxis.grid(True)\n",
    "\n",
    "ax.set_xlabel('Hour of the Day (CEST)')\n",
    "ax.set_ylabel('Number of Hops')\n",
    "ax.set_title('Number of Hops vs Hour of the Day/ google.it'.upper())\n"
   ]
  },
  {
   "cell_type": "code",
   "execution_count": null,
   "id": "26ebf75c-2c5c-4339-b983-c33b7b8032ee",
   "metadata": {},
   "outputs": [],
   "source": []
  },
  {
   "cell_type": "code",
   "execution_count": 35,
   "id": "2de192c3-c04d-40ff-9679-42c5b4dffdc6",
   "metadata": {},
   "outputs": [
    {
     "data": {
      "text/html": [
       "<div>\n",
       "<style scoped>\n",
       "    .dataframe tbody tr th:only-of-type {\n",
       "        vertical-align: middle;\n",
       "    }\n",
       "\n",
       "    .dataframe tbody tr th {\n",
       "        vertical-align: top;\n",
       "    }\n",
       "\n",
       "    .dataframe thead th {\n",
       "        text-align: right;\n",
       "    }\n",
       "</style>\n",
       "<table border=\"1\" class=\"dataframe\">\n",
       "  <thead>\n",
       "    <tr style=\"text-align: right;\">\n",
       "      <th></th>\n",
       "      <th>latency_ms</th>\n",
       "      <th>latency_ms_std_err</th>\n",
       "    </tr>\n",
       "    <tr>\n",
       "      <th>hour</th>\n",
       "      <th></th>\n",
       "      <th></th>\n",
       "    </tr>\n",
       "  </thead>\n",
       "  <tbody>\n",
       "    <tr>\n",
       "      <th>6</th>\n",
       "      <td>0.955569</td>\n",
       "      <td>0.283697</td>\n",
       "    </tr>\n",
       "    <tr>\n",
       "      <th>4</th>\n",
       "      <td>0.951461</td>\n",
       "      <td>0.249570</td>\n",
       "    </tr>\n",
       "    <tr>\n",
       "      <th>23</th>\n",
       "      <td>0.933872</td>\n",
       "      <td>0.347573</td>\n",
       "    </tr>\n",
       "    <tr>\n",
       "      <th>2</th>\n",
       "      <td>0.923648</td>\n",
       "      <td>0.284790</td>\n",
       "    </tr>\n",
       "    <tr>\n",
       "      <th>5</th>\n",
       "      <td>0.915111</td>\n",
       "      <td>0.314960</td>\n",
       "    </tr>\n",
       "    <tr>\n",
       "      <th>7</th>\n",
       "      <td>0.914733</td>\n",
       "      <td>0.285439</td>\n",
       "    </tr>\n",
       "    <tr>\n",
       "      <th>1</th>\n",
       "      <td>0.911547</td>\n",
       "      <td>0.274709</td>\n",
       "    </tr>\n",
       "    <tr>\n",
       "      <th>9</th>\n",
       "      <td>0.909583</td>\n",
       "      <td>0.303091</td>\n",
       "    </tr>\n",
       "    <tr>\n",
       "      <th>13</th>\n",
       "      <td>0.897655</td>\n",
       "      <td>0.310639</td>\n",
       "    </tr>\n",
       "    <tr>\n",
       "      <th>21</th>\n",
       "      <td>0.892767</td>\n",
       "      <td>0.337298</td>\n",
       "    </tr>\n",
       "    <tr>\n",
       "      <th>14</th>\n",
       "      <td>0.888898</td>\n",
       "      <td>0.280578</td>\n",
       "    </tr>\n",
       "    <tr>\n",
       "      <th>0</th>\n",
       "      <td>0.885481</td>\n",
       "      <td>0.332606</td>\n",
       "    </tr>\n",
       "    <tr>\n",
       "      <th>3</th>\n",
       "      <td>0.883117</td>\n",
       "      <td>0.318890</td>\n",
       "    </tr>\n",
       "    <tr>\n",
       "      <th>12</th>\n",
       "      <td>0.882918</td>\n",
       "      <td>0.348783</td>\n",
       "    </tr>\n",
       "    <tr>\n",
       "      <th>11</th>\n",
       "      <td>0.877788</td>\n",
       "      <td>0.285976</td>\n",
       "    </tr>\n",
       "    <tr>\n",
       "      <th>8</th>\n",
       "      <td>0.876304</td>\n",
       "      <td>0.241643</td>\n",
       "    </tr>\n",
       "    <tr>\n",
       "      <th>16</th>\n",
       "      <td>0.872984</td>\n",
       "      <td>0.279684</td>\n",
       "    </tr>\n",
       "    <tr>\n",
       "      <th>10</th>\n",
       "      <td>0.870383</td>\n",
       "      <td>0.259852</td>\n",
       "    </tr>\n",
       "    <tr>\n",
       "      <th>19</th>\n",
       "      <td>0.870302</td>\n",
       "      <td>0.276282</td>\n",
       "    </tr>\n",
       "    <tr>\n",
       "      <th>20</th>\n",
       "      <td>0.864380</td>\n",
       "      <td>0.286903</td>\n",
       "    </tr>\n",
       "    <tr>\n",
       "      <th>22</th>\n",
       "      <td>0.860239</td>\n",
       "      <td>0.356526</td>\n",
       "    </tr>\n",
       "    <tr>\n",
       "      <th>17</th>\n",
       "      <td>0.846570</td>\n",
       "      <td>0.306079</td>\n",
       "    </tr>\n",
       "    <tr>\n",
       "      <th>15</th>\n",
       "      <td>0.827652</td>\n",
       "      <td>0.270974</td>\n",
       "    </tr>\n",
       "    <tr>\n",
       "      <th>18</th>\n",
       "      <td>0.823714</td>\n",
       "      <td>0.301251</td>\n",
       "    </tr>\n",
       "  </tbody>\n",
       "</table>\n",
       "</div>"
      ],
      "text/plain": [
       "      latency_ms  latency_ms_std_err\n",
       "hour                                \n",
       "6       0.955569            0.283697\n",
       "4       0.951461            0.249570\n",
       "23      0.933872            0.347573\n",
       "2       0.923648            0.284790\n",
       "5       0.915111            0.314960\n",
       "7       0.914733            0.285439\n",
       "1       0.911547            0.274709\n",
       "9       0.909583            0.303091\n",
       "13      0.897655            0.310639\n",
       "21      0.892767            0.337298\n",
       "14      0.888898            0.280578\n",
       "0       0.885481            0.332606\n",
       "3       0.883117            0.318890\n",
       "12      0.882918            0.348783\n",
       "11      0.877788            0.285976\n",
       "8       0.876304            0.241643\n",
       "16      0.872984            0.279684\n",
       "10      0.870383            0.259852\n",
       "19      0.870302            0.276282\n",
       "20      0.864380            0.286903\n",
       "22      0.860239            0.356526\n",
       "17      0.846570            0.306079\n",
       "15      0.827652            0.270974\n",
       "18      0.823714            0.301251"
      ]
     },
     "execution_count": 35,
     "metadata": {},
     "output_type": "execute_result"
    }
   ],
   "source": [
    "df.sort_values(by=\"latency_ms\", ascending=False) [[\"latency_ms\", \"latency_ms_std_err\"]]"
   ]
  },
  {
   "cell_type": "code",
   "execution_count": null,
   "id": "b9539c42-96f4-47cd-80a3-4ed552b060e9",
   "metadata": {},
   "outputs": [],
   "source": []
  },
  {
   "cell_type": "code",
   "execution_count": null,
   "id": "abd6d5ba-522d-425a-800c-0ab68fa81202",
   "metadata": {},
   "outputs": [],
   "source": []
  },
  {
   "cell_type": "code",
   "execution_count": null,
   "id": "115013ca-ea90-4881-96ab-18a9ff0b5340",
   "metadata": {},
   "outputs": [],
   "source": []
  }
 ],
 "metadata": {
  "kernelspec": {
   "display_name": "Python 3 (ipykernel)",
   "language": "python",
   "name": "python3"
  },
  "language_info": {
   "codemirror_mode": {
    "name": "ipython",
    "version": 3
   },
   "file_extension": ".py",
   "mimetype": "text/x-python",
   "name": "python",
   "nbconvert_exporter": "python",
   "pygments_lexer": "ipython3",
   "version": "3.8.10"
  }
 },
 "nbformat": 4,
 "nbformat_minor": 5
}
